{
 "cells": [
  {
   "cell_type": "markdown",
   "id": "0c2e93ef",
   "metadata": {},
   "source": [
    "# LSTM Model for Forex Prediction - Exploratory Analysis\n",
    "This notebook explores the forex data and builds an initial LSTM model using PyTorch."
   ]
  },
  {
   "cell_type": "markdown",
   "id": "d3dd3086",
   "metadata": {},
   "source": [
    "Import necessary libraries"
   ]
  },
  {
   "cell_type": "code",
   "execution_count": 57,
   "id": "730b45e6",
   "metadata": {},
   "outputs": [],
   "source": [
    "import pandas as pd\n",
    "import numpy as np\n",
    "import matplotlib.pyplot as plt\n",
    "import os"
   ]
  },
  {
   "cell_type": "code",
   "execution_count": 58,
   "id": "df75f606",
   "metadata": {},
   "outputs": [],
   "source": [
    "import torch\n",
    "import torch.nn as nn\n",
    "import torch.optim as optim\n",
    "from torch.utils.data import DataLoader, TensorDataset\n",
    "from sklearn.preprocessing import StandardScaler\n",
    "from sklearn.model_selection import train_test_split"
   ]
  },
  {
   "cell_type": "code",
   "execution_count": 59,
   "id": "223e0fe5",
   "metadata": {},
   "outputs": [],
   "source": [
    "import mlflow\n",
    "import mlflow.pytorch"
   ]
  },
  {
   "cell_type": "code",
   "execution_count": 60,
   "id": "9e385a23",
   "metadata": {},
   "outputs": [],
   "source": [
    "# Configure MLflow\n",
    "mlflow.set_tracking_uri(\"http://localhost:5000\")"
   ]
  },
  {
   "cell_type": "markdown",
   "id": "2311ecf5",
   "metadata": {},
   "source": [
    "## 1. Load and Explore Data"
   ]
  },
  {
   "cell_type": "markdown",
   "id": "c3221ddc",
   "metadata": {},
   "source": [
    "Load the data"
   ]
  },
  {
   "cell_type": "code",
   "execution_count": 61,
   "id": "218827f9",
   "metadata": {},
   "outputs": [],
   "source": [
    "data_path = \"/home/ayaan-ubuntu/DA5402/DA5402-ML-Application/data/prepared/USD_INR_transformed.csv\" \n",
    "df = pd.read_csv(data_path)"
   ]
  },
  {
   "cell_type": "markdown",
   "id": "e76631e0",
   "metadata": {},
   "source": [
    "Display basic information"
   ]
  },
  {
   "cell_type": "code",
   "execution_count": null,
   "id": "c86c1d10",
   "metadata": {},
   "outputs": [],
   "source": [
    "print(f\"Data shape: {df.shape}\")\n",
    "df.head()"
   ]
  },
  {
   "cell_type": "markdown",
   "id": "9f1f58db",
   "metadata": {},
   "source": [
    "### Check for missing values"
   ]
  },
  {
   "cell_type": "markdown",
   "id": "18a7a058",
   "metadata": {},
   "source": [
    "Check for missing values"
   ]
  },
  {
   "cell_type": "code",
   "execution_count": null,
   "id": "697875f4",
   "metadata": {},
   "outputs": [],
   "source": [
    "print(\"Missing values:\")\n",
    "print(df.isnull().sum())"
   ]
  },
  {
   "cell_type": "markdown",
   "id": "bd3e4fe1",
   "metadata": {},
   "source": [
    "### Exploratory Data Analysis"
   ]
  },
  {
   "cell_type": "markdown",
   "id": "658615ac",
   "metadata": {},
   "source": [
    "Statistical summary"
   ]
  },
  {
   "cell_type": "code",
   "execution_count": null,
   "id": "32dd50a5",
   "metadata": {},
   "outputs": [],
   "source": [
    "df.describe()"
   ]
  },
  {
   "cell_type": "markdown",
   "id": "6ec0a47a",
   "metadata": {},
   "source": [
    "Visualize price and target"
   ]
  },
  {
   "cell_type": "code",
   "execution_count": null,
   "id": "0c733aca",
   "metadata": {},
   "outputs": [],
   "source": [
    "plt.figure(figsize=(14, 7))\n",
    "plt.plot(df['close'], label='Close Price')\n",
    "plt.plot(df['target'], label='Target (Next Close)', alpha=0.7)\n",
    "plt.title('Close Price vs Target')\n",
    "plt.legend()\n",
    "plt.grid(True)\n",
    "plt.show()"
   ]
  },
  {
   "cell_type": "markdown",
   "id": "a08ce901",
   "metadata": {},
   "source": [
    "Visualize technical indicators"
   ]
  },
  {
   "cell_type": "code",
   "execution_count": null,
   "id": "4cf1a2f0",
   "metadata": {},
   "outputs": [],
   "source": [
    "plt.figure(figsize=(14, 10))\n",
    "\n",
    "plt.subplot(3, 1, 1)\n",
    "plt.plot(df['close'], label='Close')\n",
    "plt.plot(df['MA5'], label='MA5')\n",
    "plt.plot(df['MA10'], label='MA10')\n",
    "plt.plot(df['MA22'], label='MA22')\n",
    "plt.title('Moving Averages')\n",
    "plt.legend()\n",
    "plt.grid(True)\n",
    "\n",
    "plt.subplot(3, 1, 2)\n",
    "plt.plot(df['close'], label='Close')\n",
    "plt.plot(df['BB_upper'], label='Upper BB')\n",
    "plt.plot(df['BB_lower'], label='Lower BB')\n",
    "plt.title('Bollinger Bands')\n",
    "plt.legend()\n",
    "plt.grid(True)\n",
    "\n",
    "plt.subplot(3, 1, 3)\n",
    "plt.plot(df['RSI'], label='RSI')\n",
    "plt.axhline(y=70, color='r', linestyle='-', alpha=0.3)\n",
    "plt.axhline(y=30, color='g', linestyle='-', alpha=0.3)\n",
    "plt.title('RSI')\n",
    "plt.legend()\n",
    "plt.grid(True)\n",
    "\n",
    "plt.tight_layout()\n",
    "plt.show()"
   ]
  },
  {
   "cell_type": "markdown",
   "id": "ea7d74c7",
   "metadata": {},
   "source": [
    "Correlation matrix"
   ]
  },
  {
   "cell_type": "code",
   "execution_count": null,
   "id": "bbee06eb",
   "metadata": {},
   "outputs": [],
   "source": [
    "# plt.figure(figsize=(12, 10))\n",
    "# correlation = df.drop(columns=['date']).corr()\n",
    "# sns.heatmap(correlation, annot=True, cmap='coolwarm', linewidths=0.5)\n",
    "# plt.title('Feature Correlation Matrix')\n",
    "# plt.tight_layout()\n",
    "# plt.show()"
   ]
  },
  {
   "cell_type": "markdown",
   "id": "daf6a3d4",
   "metadata": {},
   "source": [
    "## 2. Prepare Data for LSTM"
   ]
  },
  {
   "cell_type": "markdown",
   "id": "a73856cb",
   "metadata": {},
   "source": [
    "Define sequence length"
   ]
  },
  {
   "cell_type": "code",
   "execution_count": null,
   "id": "2e03da38",
   "metadata": {},
   "outputs": [],
   "source": [
    "sequence_length = 800\n",
    "\n",
    "# Extract features and target\n",
    "features = df.drop(['target', 'date'], axis=1).values\n",
    "target = df['target'].values\n",
    "\n",
    "# Normalize features\n",
    "scaler = StandardScaler()\n",
    "features"
   ]
  },
  {
   "cell_type": "markdown",
   "id": "00dea5ec",
   "metadata": {},
   "source": [
    "Normalize features"
   ]
  },
  {
   "cell_type": "code",
   "execution_count": null,
   "id": "4d2fb0f8",
   "metadata": {},
   "outputs": [],
   "source": [
    "# Scale features\n",
    "scaler = StandardScaler()\n",
    "features_scaled = scaler.fit_transform(features)\n",
    "\n",
    "# Create sequences\n",
    "X, y = [], []\n",
    "for i in range(len(features_scaled) - sequence_length):\n",
    "    X.append(features_scaled[i:i + sequence_length])\n",
    "    y.append(target[i + sequence_length])\n",
    "\n",
    "X = np.array(X)\n",
    "y = np.array(y).reshape(-1, 1)\n",
    "\n",
    "print(f\"X shape: {X.shape}\")  # [samples, sequence_length, features]\n",
    "print(f\"y shape: {y.shape}\")  # [samples, 1]"
   ]
  },
  {
   "cell_type": "code",
   "execution_count": null,
   "id": "85db0dbc",
   "metadata": {},
   "outputs": [],
   "source": [
    "# Split data\n",
    "X_train, X_test, y_train, y_test = train_test_split(X, y, test_size=0.2, shuffle=False)\n",
    "\n",
    "# Convert to PyTorch tensors\n",
    "X_train = torch.tensor(X_train, dtype=torch.float32)\n",
    "y_train = torch.tensor(y_train, dtype=torch.float32)\n",
    "X_test = torch.tensor(X_test, dtype=torch.float32)\n",
    "y_test = torch.tensor(y_test, dtype=torch.float32)\n",
    "\n",
    "print(f\"Training set: {X_train.shape}\")\n",
    "print(f\"Test set: {X_test.shape}\")"
   ]
  },
  {
   "cell_type": "markdown",
   "id": "493958be",
   "metadata": {},
   "source": [
    "## 3. Define LSTM Model"
   ]
  },
  {
   "cell_type": "code",
   "execution_count": 65,
   "id": "87c33969",
   "metadata": {},
   "outputs": [],
   "source": [
    "class LSTMModel(nn.Module):\n",
    "    def __init__(self, input_size, hidden_size, num_layers, output_size, dropout=0.2, organisation=\"half\"):\n",
    "        super(LSTMModel, self).__init__()\n",
    "        self.num_layers = num_layers\n",
    "        self.hidden_size = hidden_size\n",
    "        self.organisation = organisation\n",
    "\n",
    "        self.lstm_layers = nn.ModuleList()\n",
    "        current_input_size = input_size\n",
    "        current_hidden_size = hidden_size\n",
    "\n",
    "        for i in range(num_layers):\n",
    "            self.lstm_layers.append(\n",
    "                nn.LSTM(\n",
    "                    input_size=current_input_size,\n",
    "                    hidden_size=current_hidden_size,\n",
    "                    num_layers=1,\n",
    "                    batch_first=True,\n",
    "                    dropout=dropout if i < num_layers-1 else 0\n",
    "                )\n",
    "            )\n",
    "\n",
    "            # Store correct final_hidden_size before changing it\n",
    "            if i == num_layers - 1:\n",
    "                final_hidden_size = current_hidden_size\n",
    "\n",
    "            if organisation == \"half\":\n",
    "                current_input_size = current_hidden_size\n",
    "                current_hidden_size = max(1, current_hidden_size // 2)  # prevent going to 0\n",
    "            else:\n",
    "                current_input_size = current_hidden_size\n",
    "\n",
    "        self.fc = nn.Linear(final_hidden_size, output_size)\n",
    "\n",
    "    def forward(self, x):\n",
    "        h = x\n",
    "        for lstm in self.lstm_layers:\n",
    "            h0 = torch.zeros(1, h.size(0), lstm.hidden_size).to(x.device)\n",
    "            c0 = torch.zeros(1, h.size(0), lstm.hidden_size).to(x.device)\n",
    "            h, _ = lstm(h, (h0, c0))\n",
    "\n",
    "        out = self.fc(h[:, -1, :])\n",
    "        return out"
   ]
  },
  {
   "cell_type": "markdown",
   "id": "baca5817",
   "metadata": {},
   "source": [
    "## 4. Train Model with MLflow Tracking"
   ]
  },
  {
   "cell_type": "markdown",
   "id": "81377fba",
   "metadata": {},
   "source": [
    "Set hyperparameters"
   ]
  },
  {
   "cell_type": "code",
   "execution_count": null,
   "id": "b0d7fe4e",
   "metadata": {},
   "outputs": [],
   "source": [
    "input_size = X_train.shape[2]  # Number of features\n",
    "hidden_size = 256\n",
    "num_layers = 2\n",
    "output_size = 1  # Regression task\n",
    "dropout = 0.3\n",
    "\n",
    "batch_size = 32\n",
    "learning_rate = 0.001\n",
    "num_epochs = 20\n",
    "\n",
    "# Create DataLoader\n",
    "train_dataset = TensorDataset(X_train, y_train)\n",
    "train_loader = DataLoader(train_dataset, batch_size=batch_size, shuffle=True)\n",
    "\n",
    "# Initialize model, loss function and optimizer\n",
    "device = torch.device('cuda' if torch.cuda.is_available() else 'cpu')\n",
    "print(f\"Using device: {device}\")\n",
    "\n",
    "model = LSTMModel(input_size, hidden_size, num_layers, output_size, dropout)\n",
    "model.to(device)\n",
    "\n",
    "criterion = nn.MSELoss()\n",
    "optimizer = optim.Adam(model.parameters(), lr=learning_rate)"
   ]
  },
  {
   "cell_type": "markdown",
   "id": "454309c7",
   "metadata": {},
   "source": [
    "Start MLflow run"
   ]
  },
  {
   "cell_type": "code",
   "execution_count": null,
   "id": "f478beff",
   "metadata": {},
   "outputs": [],
   "source": [
    "mlflow.set_experiment(\"forex_prediction_exploration\")\n",
    "\n",
    "with mlflow.start_run(run_name=\"LSTM_exploration\"):\n",
    "    # Log model parameters\n",
    "    mlflow.log_params({\n",
    "        \"hidden_size\": hidden_size,\n",
    "        \"num_layers\": num_layers,\n",
    "        \"dropout\": dropout,\n",
    "        \"batch_size\": batch_size,\n",
    "        \"learning_rate\": learning_rate,\n",
    "        \"num_epochs\": num_epochs,\n",
    "        \"sequence_length\": sequence_length\n",
    "    })\n",
    "    \n",
    "    # Lists to store losses for plotting\n",
    "    train_losses = []\n",
    "    test_losses = []\n",
    "    \n",
    "    # Training loop\n",
    "    for epoch in range(num_epochs):\n",
    "        model.train()\n",
    "        total_loss = 0\n",
    "        \n",
    "        for batch_X, batch_y in train_loader:\n",
    "            batch_X, batch_y = batch_X.to(device), batch_y.to(device)\n",
    "            \n",
    "            # Forward pass\n",
    "            outputs = model(batch_X)\n",
    "            loss = criterion(outputs, batch_y)\n",
    "            \n",
    "            # Backward pass and optimize\n",
    "            optimizer.zero_grad()\n",
    "            loss.backward()\n",
    "            optimizer.step()\n",
    "            \n",
    "            total_loss += loss.item()\n",
    "        \n",
    "        # Calculate average loss for the epoch\n",
    "        avg_loss = total_loss / len(train_loader)\n",
    "        train_losses.append(avg_loss)\n",
    "        \n",
    "        # Evaluate on test set\n",
    "        model.eval()\n",
    "        with torch.no_grad():\n",
    "            test_X, test_y = X_test.to(device), y_test.to(device)\n",
    "            predictions = model(test_X)\n",
    "            test_loss = criterion(predictions, test_y).item()\n",
    "            test_losses.append(test_loss)\n",
    "            \n",
    "            # Calculate metrics\n",
    "            mae = torch.mean(torch.abs(predictions - test_y)).item()\n",
    "            \n",
    "            # For directional accuracy\n",
    "            actual_direction = (test_y[1:] > test_y[:-1]).float()\n",
    "            pred_direction = (predictions[1:] > predictions[:-1]).float()\n",
    "            directional_accuracy = torch.mean((actual_direction == pred_direction).float()).item()\n",
    "        \n",
    "        # Log metrics to MLflow\n",
    "        mlflow.log_metrics({\n",
    "            \"train_loss\": avg_loss,\n",
    "            \"test_loss\": test_loss,\n",
    "            \"mae\": mae,\n",
    "            \"directional_accuracy\": directional_accuracy\n",
    "        }, step=epoch)\n",
    "        \n",
    "        # Print progress\n",
    "        if (epoch+1) % 5 == 0:\n",
    "            print(f\"Epoch [{epoch+1}/{num_epochs}], \"\n",
    "                f\"Train Loss: {avg_loss:.4f}, \"\n",
    "                f\"Test Loss: {test_loss:.4f}, \"\n",
    "                f\"MAE: {mae:.4f}, \"\n",
    "                f\"Dir Acc: {directional_accuracy:.4f}\")\n",
    "    \n",
    "    # Save model\n",
    "    mlflow.pytorch.log_model(model, \"model\")\n",
    "    \n",
    "    # Get run ID for reference\n",
    "    run_id = mlflow.active_run().info.run_id\n",
    "    print(f\"MLflow Run ID: {run_id}\")"
   ]
  },
  {
   "cell_type": "markdown",
   "id": "10dc891a",
   "metadata": {},
   "source": [
    "## 5. Visualize Training Results"
   ]
  },
  {
   "cell_type": "markdown",
   "id": "3255aca3",
   "metadata": {},
   "source": [
    "Plot training and test loss"
   ]
  },
  {
   "cell_type": "code",
   "execution_count": null,
   "id": "5ea9b642",
   "metadata": {},
   "outputs": [],
   "source": [
    "plt.figure(figsize=(10, 6))\n",
    "plt.plot(train_losses, label='Training Loss')\n",
    "plt.plot(test_losses, label='Test Loss')\n",
    "plt.title('Training and Test Loss')\n",
    "plt.xlabel('Epoch')\n",
    "plt.ylabel('Loss')\n",
    "plt.legend()\n",
    "plt.grid(True)\n",
    "plt.show()"
   ]
  },
  {
   "cell_type": "markdown",
   "id": "cf0fd44f",
   "metadata": {},
   "source": [
    "## 6. Model Evaluation and Predictions"
   ]
  },
  {
   "cell_type": "code",
   "execution_count": null,
   "id": "54dd9d43",
   "metadata": {},
   "outputs": [],
   "source": [
    "# Make predictions on test set\n",
    "model.eval()\n",
    "with torch.no_grad():\n",
    "    test_X = X_test.to(device)\n",
    "    predictions = model(test_X).cpu().numpy()\n",
    "    actuals = y_test.numpy()\n",
    "\n",
    "# Plot predictions vs actuals\n",
    "plt.figure(figsize=(12, 6))\n",
    "plt.plot(actuals, label='Actual')\n",
    "plt.plot(predictions, label='Predicted')\n",
    "plt.title('Forex Price Prediction - Test Set')\n",
    "plt.xlabel('Time Steps')\n",
    "plt.ylabel('Price')\n",
    "plt.legend()\n",
    "plt.grid(True)\n",
    "plt.show()"
   ]
  },
  {
   "cell_type": "code",
   "execution_count": null,
   "id": "9e15906a",
   "metadata": {},
   "outputs": [],
   "source": [
    "# Error analysis\n",
    "errors = predictions - actuals\n",
    "plt.figure(figsize=(12, 6))\n",
    "plt.plot(errors)\n",
    "plt.title('Prediction Errors')\n",
    "plt.xlabel('Time Steps')\n",
    "plt.ylabel('Error')\n",
    "plt.grid(True)\n",
    "plt.show()\n",
    "\n",
    "plt.figure(figsize=(10, 6))\n",
    "plt.hist(errors, bins=50)\n",
    "plt.title('Error Distribution')\n",
    "plt.xlabel('Error')\n",
    "plt.ylabel('Frequency')\n",
    "plt.grid(True)\n",
    "plt.show()"
   ]
  },
  {
   "cell_type": "markdown",
   "id": "35ddd26f",
   "metadata": {},
   "source": [
    "## 7. Directional Accuracy Analysis"
   ]
  },
  {
   "cell_type": "code",
   "execution_count": null,
   "id": "6d6422d7",
   "metadata": {},
   "outputs": [],
   "source": [
    "# Calculate directional movement\n",
    "actual_direction = np.diff(actuals.flatten()) > 0\n",
    "pred_direction = np.diff(predictions.flatten()) > 0\n",
    "\n",
    "# Calculate directional accuracy\n",
    "directional_accuracy = np.mean(actual_direction == pred_direction)\n",
    "print(f\"Directional Accuracy: {directional_accuracy:.4f}\")\n",
    "\n",
    "# Confusion matrix for direction prediction\n",
    "confusion = pd.crosstab(\n",
    "    pd.Series(actual_direction, name='Actual'),\n",
    "    pd.Series(pred_direction, name='Predicted')\n",
    ")\n",
    "print(\"\\nConfusion Matrix (Direction):\")\n",
    "print(confusion)"
   ]
  },
  {
   "cell_type": "markdown",
   "id": "af299502",
   "metadata": {},
   "source": [
    "## 8. MLflow Experiment Tracking"
   ]
  },
  {
   "cell_type": "code",
   "execution_count": null,
   "id": "1eacb584",
   "metadata": {},
   "outputs": [],
   "source": [
    "# Query previous runs\n",
    "runs = mlflow.search_runs(experiment_names=[\"forex_prediction_exploration\"])\n",
    "runs[[\"run_id\", \"metrics.test_loss\", \"metrics.directional_accuracy\", \"params.hidden_size\", \"params.num_layers\"]]"
   ]
  },
  {
   "cell_type": "markdown",
   "id": "093477f4",
   "metadata": {},
   "source": [
    "## 9. Hyperparameter Tuning"
   ]
  },
  {
   "cell_type": "markdown",
   "id": "8a2bd54c",
   "metadata": {},
   "source": [
    "Data preparation function"
   ]
  },
  {
   "cell_type": "code",
   "execution_count": 90,
   "id": "0e98314a",
   "metadata": {},
   "outputs": [],
   "source": [
    "def prepare_data(df, sequence_length):\n",
    "    \"\"\"\n",
    "    Load and prepare data for LSTM model\n",
    "    \"\"\"\n",
    "    \n",
    "    # Extract features and target\n",
    "    features = df.drop(['target', 'date'], axis=1).values\n",
    "    target = df['target'].values\n",
    "    \n",
    "    # Create sequences\n",
    "    X, y = [], []\n",
    "    for i in range(len(features) - sequence_length):\n",
    "        X.append(features[i:i + sequence_length])\n",
    "        y.append(target[i + sequence_length])\n",
    "    \n",
    "    X = np.array(X)\n",
    "    y = np.array(y).reshape(-1, 1)\n",
    "    \n",
    "    # Split into training and testing (before scaling!)\n",
    "    X_train_raw, X_val_raw, y_train, y_val = train_test_split(X, y, test_size=0.2, shuffle=False)\n",
    "    \n",
    "    # Flatten X for scaling (scale each timestep feature independently)\n",
    "    num_features = X.shape[2]\n",
    "    scaler = StandardScaler()\n",
    "    \n",
    "    X_train_flat = X_train_raw.reshape(-1, num_features)\n",
    "    X_val_flat = X_val_raw.reshape(-1, num_features)\n",
    "    \n",
    "    X_train_scaled = scaler.fit_transform(X_train_flat).reshape(X_train_raw.shape)\n",
    "    X_val_scaled = scaler.transform(X_val_flat).reshape(X_val_raw.shape)\n",
    "    \n",
    "    # Convert to PyTorch tensors\n",
    "    X_train = torch.tensor(X_train_scaled, dtype=torch.float32)\n",
    "    y_train = torch.tensor(y_train, dtype=torch.float32)\n",
    "    X_val = torch.tensor(X_val_scaled, dtype=torch.float32)\n",
    "    y_val = torch.tensor(y_val, dtype=torch.float32)\n",
    "    \n",
    "    return X_train, y_train, X_val, y_val, scaler"
   ]
  },
  {
   "cell_type": "markdown",
   "id": "9e9f2bd3",
   "metadata": {},
   "source": [
    "Model training function"
   ]
  },
  {
   "cell_type": "code",
   "execution_count": 66,
   "id": "f9f34cfb",
   "metadata": {},
   "outputs": [],
   "source": [
    "from itertools import product\n",
    "from tqdm import tqdm"
   ]
  },
  {
   "cell_type": "code",
   "execution_count": 67,
   "id": "e0654e91",
   "metadata": {},
   "outputs": [],
   "source": [
    "class CombinedLoss(nn.Module):\n",
    "    def __init__(self, lambda_direction=0.1):\n",
    "        super(CombinedLoss, self).__init__()\n",
    "        self.mse = nn.MSELoss()\n",
    "        self.bce = nn.BCEWithLogitsLoss()  # Predict direction via logits\n",
    "        self.lambda_direction = lambda_direction  # Weight for directional loss\n",
    "\n",
    "    def forward(self, predictions, targets):\n",
    "        # MSE Part\n",
    "        mse_loss = self.mse(predictions, targets)\n",
    "        \n",
    "        # Directional Part\n",
    "        \n",
    "        # To compute BCE loss, we need logits (before thresholding):\n",
    "        pred_diff = predictions[1:] - predictions[:-1]  # raw difference\n",
    "        true_diff = targets[1:] - targets[:-1]  # raw difference\n",
    "\n",
    "        # BCE expects labels as 0/1 and inputs as logits\n",
    "        direction_labels = (true_diff > 0).float()\n",
    "        direction_logits = pred_diff  # No threshold applied\n",
    "\n",
    "        directional_loss = self.bce(direction_logits, direction_labels)\n",
    "\n",
    "        # Total Loss\n",
    "        total_loss = mse_loss + self.lambda_direction * directional_loss\n",
    "        return total_loss"
   ]
  },
  {
   "cell_type": "code",
   "execution_count": 79,
   "id": "abf8826f",
   "metadata": {},
   "outputs": [],
   "source": [
    "def train(X_train, y_train, X_val, y_val, model_params, training_params):\n",
    "    \"\"\"\n",
    "    Train and evaluate LSTM model\n",
    "    \"\"\"\n",
    "    # Unpack parameters\n",
    "    input_size = X_train.shape[2]  # Number of features\n",
    "    hidden_size = model_params['hidden_size']\n",
    "    num_layers = model_params['num_layers']\n",
    "    output_size = 1  # Regression task\n",
    "    dropout = model_params['dropout']\n",
    "    \n",
    "    batch_size = training_params['batch_size']\n",
    "    learning_rate = training_params['learning_rate']\n",
    "    num_epochs = training_params['num_epochs']\n",
    "    lambda_direction = training_params['lambda_direction']\n",
    "\n",
    "    # Create DataLoader\n",
    "    train_dataset = TensorDataset(X_train, y_train)\n",
    "    train_loader = DataLoader(train_dataset, batch_size=batch_size, shuffle=True)\n",
    "    \n",
    "    # Initialize model, loss function and optimizer\n",
    "    device = torch.device('cuda' if torch.cuda.is_available() else 'cpu')\n",
    "    print(f\"Using device: {device}\")\n",
    "    \n",
    "    model = LSTMModel(input_size, hidden_size, num_layers, output_size, dropout)\n",
    "    model.to(device)\n",
    "    \n",
    "    criterion = CombinedLoss(lambda_direction=lambda_direction)\n",
    "    optimizer = optim.Adam(model.parameters(), lr=learning_rate)\n",
    "    \n",
    "    run_name = f\"hs{hidden_size}_nl{num_layers}_dr{dropout}_bs{batch_size}_lr{learning_rate}\"\n",
    "    # Start MLflow run\n",
    "    with mlflow.start_run(run_name=run_name):\n",
    "        # Log model parameters\n",
    "        mlflow.log_params({\n",
    "            \"hidden_size\": hidden_size,\n",
    "            \"num_layers\": num_layers,\n",
    "            \"dropout\": dropout,\n",
    "            \"batch_size\": batch_size,\n",
    "            \"learning_rate\": learning_rate,\n",
    "            \"num_epochs\": num_epochs,\n",
    "            \"input_size\": input_size,\n",
    "            \"sequence_length\": X_train.shape[1]\n",
    "        })\n",
    "        \n",
    "        pbar = tqdm(range(num_epochs), desc=\"Training Progress\")\n",
    "        for epoch in pbar:\n",
    "            model.train()\n",
    "            total_loss = 0\n",
    "\n",
    "            for batch_X, batch_y in train_loader:\n",
    "                batch_X, batch_y = batch_X.to(device), batch_y.to(device)\n",
    "                \n",
    "                # Forward pass\n",
    "                outputs = model(batch_X)\n",
    "                loss = criterion(outputs, batch_y)\n",
    "                \n",
    "                # Backward pass and optimize\n",
    "                optimizer.zero_grad()\n",
    "                loss.backward()\n",
    "                optimizer.step()\n",
    "                \n",
    "                total_loss += loss.item()\n",
    "            \n",
    "            # Calculate average loss for the epoch\n",
    "            avg_loss = total_loss / len(train_loader)\n",
    "            \n",
    "            # Evaluate on test set\n",
    "            model.eval()\n",
    "            with torch.no_grad():\n",
    "                val_X, val_y = X_val.to(device), y_val.to(device)\n",
    "                predictions = model(val_X)\n",
    "                val_loss = criterion(predictions, val_y).item()\n",
    "                \n",
    "                # Calculate metrics\n",
    "                mae = torch.mean(torch.abs(predictions - val_y)).item()\n",
    "                \n",
    "                # For directional accuracy\n",
    "                actual_direction = (val_y[1:] > val_y[:-1]).float()\n",
    "                pred_direction = (predictions[1:] > predictions[:-1]).float()\n",
    "                directional_accuracy = torch.mean((actual_direction == pred_direction).float()).item()\n",
    "            \n",
    "            # Log metrics to MLflow\n",
    "            mlflow.log_metrics({\n",
    "                \"train_loss\": avg_loss,\n",
    "                \"val_loss\": val_loss,\n",
    "                \"mae\": mae,\n",
    "                \"directional_accuracy\": directional_accuracy\n",
    "            }, step=epoch)\n",
    "            \n",
    "            # Update tqdm progress bar in-place\n",
    "            pbar.set_postfix({\n",
    "                'Train Loss': f\"{avg_loss:.4f}\",\n",
    "                'Val Loss': f\"{val_loss:.4f}\",\n",
    "                'MAE': f\"{mae:.4f}\",\n",
    "                'Dir Acc': f\"{directional_accuracy:.4f}\"\n",
    "            })\n",
    "            \n",
    "            # Save model\n",
    "            mlflow.pytorch.log_model(model, \"model\")\n",
    "        \n",
    "        # Get run ID for reference\n",
    "        run_id = mlflow.active_run().info.run_id\n",
    "        print(f\"MLflow Run ID: {run_id}\")\n",
    "        \n",
    "        # Return model and metrics for further use\n",
    "        final_metrics = {\n",
    "            \"val_loss\": val_loss,\n",
    "            \"mae\": mae,\n",
    "            \"directional_accuracy\": directional_accuracy,\n",
    "            \"run_id\": run_id\n",
    "        }\n",
    "        \n",
    "    return model, final_metrics"
   ]
  },
  {
   "cell_type": "markdown",
   "id": "92d97236",
   "metadata": {},
   "source": [
    "Hyperparameter Tuning"
   ]
  },
  {
   "cell_type": "code",
   "execution_count": 69,
   "id": "d361beae",
   "metadata": {},
   "outputs": [],
   "source": [
    "import json"
   ]
  },
  {
   "cell_type": "code",
   "execution_count": 82,
   "id": "597cbdc2",
   "metadata": {},
   "outputs": [],
   "source": [
    "def run_hyperparameter_tuning(df, sequence_length, param_grid):\n",
    "    \"\"\"\n",
    "    Run hyperparameter tuning with MLflow tracking\n",
    "    \"\"\"\n",
    "    \n",
    "    # Prepare data\n",
    "    X_train, y_train, X_val, y_val, _ = prepare_data(df, sequence_length)\n",
    "    \n",
    "    # Generate all combinations of hyperparameters\n",
    "    param_combinations = list(product(\n",
    "        param_grid['hidden_size'],\n",
    "        param_grid['num_layers'],\n",
    "        param_grid['dropout'],\n",
    "        param_grid['batch_size'],\n",
    "        param_grid['learning_rate'],\n",
    "        param_grid['num_epochs'],\n",
    "        param_grid['lambda_direction']\n",
    "    ))\n",
    "    \n",
    "    print(f\"Running hyperparameter tuning with {len(param_combinations)} combinations\")\n",
    "    \n",
    "    # Store results\n",
    "    results = []\n",
    "    \n",
    "    # Run training for each combination\n",
    "    for hidden_size, num_layers, dropout, batch_size, learning_rate, num_epochs, lambda_direction in param_combinations:\n",
    "        print(f\"Training with: hidden_size={hidden_size}, num_layers={num_layers}, \"\n",
    "              f\"dropout={dropout}, batch_size={batch_size}, \"\n",
    "              f\"learning_rate={learning_rate}, num_epochs={num_epochs}, lambda={lambda_direction}\")\n",
    "        \n",
    "        model_params = {\n",
    "            'hidden_size': hidden_size,\n",
    "            'num_layers': num_layers,\n",
    "            'dropout': dropout\n",
    "        }\n",
    "        \n",
    "        training_params = {\n",
    "            'batch_size': batch_size,\n",
    "            'learning_rate': learning_rate,\n",
    "            'num_epochs': num_epochs,\n",
    "            'lambda_direction': lambda_direction\n",
    "        }\n",
    "        \n",
    "        # Train and evaluate model\n",
    "        model, metrics = train(X_train, y_train, X_val, y_val, model_params, training_params)\n",
    "        \n",
    "        # Store results\n",
    "        result = {\n",
    "            'hidden_size': hidden_size,\n",
    "            'num_layers': num_layers,\n",
    "            'dropout': dropout,\n",
    "            'batch_size': batch_size,\n",
    "            'learning_rate': learning_rate,\n",
    "            'num_epochs': num_epochs,\n",
    "            'val_loss': metrics['val_loss'],\n",
    "            'mae': metrics['mae'],\n",
    "            'directional_accuracy': metrics['directional_accuracy'],\n",
    "            'run_id': metrics['run_id']\n",
    "        }\n",
    "        \n",
    "        results.append(result)\n",
    "    \n",
    "    # Create results dataframe\n",
    "    results_df = pd.DataFrame(results)\n",
    "    \n",
    "    # Find best model based on val loss\n",
    "    best_idx = results_df['val_loss'].idxmin()\n",
    "    best_model = results_df.iloc[best_idx]\n",
    "    \n",
    "    print(f\"Best model found with val_loss: {best_model['val_loss']:.4f}\")\n",
    "    print(f\"Best hyperparameters: {best_model.to_dict()}\")\n",
    "    \n",
    "    # Save results\n",
    "    os.makedirs('tuning_results', exist_ok=True)\n",
    "    results_df.to_csv('tuning_results/hyperparameter_results.csv', index=False)\n",
    "    \n",
    "    with open('tuning_results/best_params.json', 'w') as f:\n",
    "        json.dump(best_model.to_dict(), f, indent=4)\n",
    "    \n",
    "    return best_model.to_dict()"
   ]
  },
  {
   "cell_type": "code",
   "execution_count": 72,
   "id": "b2e6bc8f",
   "metadata": {},
   "outputs": [],
   "source": [
    "import warnings\n",
    "import logging\n",
    "from tqdm import tqdm\n",
    "\n",
    "# Suppress warnings from mlflow (and related libraries)\n",
    "logging.getLogger(\"mlflow\").setLevel(logging.ERROR)\n",
    "\n",
    "# Alternatively, use warnings module to suppress UserWarnings from mlflow\n",
    "warnings.filterwarnings(\"ignore\", category=UserWarning, module=\"mlflow\")"
   ]
  },
  {
   "cell_type": "code",
   "execution_count": 93,
   "id": "4b15dbe5",
   "metadata": {},
   "outputs": [
    {
     "name": "stdout",
     "output_type": "stream",
     "text": [
      "Running hyperparameter tuning with 108 combinations\n",
      "Training with: hidden_size=128, num_layers=1, dropout=0.25, batch_size=16, learning_rate=0.001, num_epochs=50, lambda=0.1\n",
      "Using device: cuda\n"
     ]
    },
    {
     "name": "stderr",
     "output_type": "stream",
     "text": [
      "Training Progress: 100%|██████████| 50/50 [03:51<00:00,  4.62s/it, Train Loss=nan, Val Loss=2221.3213, MAE=47.1301, Dir Acc=0.5625]\n"
     ]
    },
    {
     "name": "stdout",
     "output_type": "stream",
     "text": [
      "MLflow Run ID: 6697f73d460e428389b020fc5e36980f\n",
      "🏃 View run hs128_nl1_dr0.25_bs16_lr0.001 at: http://localhost:5000/#/experiments/559423165246250756/runs/6697f73d460e428389b020fc5e36980f\n",
      "🧪 View experiment at: http://localhost:5000/#/experiments/559423165246250756\n",
      "Training with: hidden_size=128, num_layers=1, dropout=0.25, batch_size=16, learning_rate=0.001, num_epochs=50, lambda=0.2\n",
      "Using device: cuda\n"
     ]
    },
    {
     "name": "stderr",
     "output_type": "stream",
     "text": [
      "Training Progress: 100%|██████████| 50/50 [03:46<00:00,  4.53s/it, Train Loss=nan, Val Loss=2188.4534, MAE=46.7793, Dir Acc=0.5625]\n"
     ]
    },
    {
     "name": "stdout",
     "output_type": "stream",
     "text": [
      "MLflow Run ID: 8aaa373fc88b4535a2167c982dbbfcc8\n",
      "🏃 View run hs128_nl1_dr0.25_bs16_lr0.001 at: http://localhost:5000/#/experiments/559423165246250756/runs/8aaa373fc88b4535a2167c982dbbfcc8\n",
      "🧪 View experiment at: http://localhost:5000/#/experiments/559423165246250756\n",
      "Training with: hidden_size=128, num_layers=1, dropout=0.25, batch_size=16, learning_rate=0.001, num_epochs=50, lambda=0.4\n",
      "Using device: cuda\n"
     ]
    },
    {
     "name": "stderr",
     "output_type": "stream",
     "text": [
      "Training Progress: 100%|██████████| 50/50 [03:52<00:00,  4.64s/it, Train Loss=nan, Val Loss=2186.8491, MAE=46.7607, Dir Acc=0.5625]\n"
     ]
    },
    {
     "name": "stdout",
     "output_type": "stream",
     "text": [
      "MLflow Run ID: c7a30744290b4347bc26dcbd2446cb00\n",
      "🏃 View run hs128_nl1_dr0.25_bs16_lr0.001 at: http://localhost:5000/#/experiments/559423165246250756/runs/c7a30744290b4347bc26dcbd2446cb00\n",
      "🧪 View experiment at: http://localhost:5000/#/experiments/559423165246250756\n",
      "Training with: hidden_size=128, num_layers=1, dropout=0.25, batch_size=32, learning_rate=0.001, num_epochs=50, lambda=0.1\n",
      "Using device: cuda\n"
     ]
    },
    {
     "name": "stderr",
     "output_type": "stream",
     "text": [
      "Training Progress: 100%|██████████| 50/50 [03:45<00:00,  4.52s/it, Train Loss=nan, Val Loss=3399.8113, MAE=58.3072, Dir Acc=0.6250]\n"
     ]
    },
    {
     "name": "stdout",
     "output_type": "stream",
     "text": [
      "MLflow Run ID: e5d510ed2e9f4623845ce0a63756b103\n",
      "🏃 View run hs128_nl1_dr0.25_bs32_lr0.001 at: http://localhost:5000/#/experiments/559423165246250756/runs/e5d510ed2e9f4623845ce0a63756b103\n",
      "🧪 View experiment at: http://localhost:5000/#/experiments/559423165246250756\n",
      "Training with: hidden_size=128, num_layers=1, dropout=0.25, batch_size=32, learning_rate=0.001, num_epochs=50, lambda=0.2\n",
      "Using device: cuda\n"
     ]
    },
    {
     "name": "stderr",
     "output_type": "stream",
     "text": [
      "Training Progress: 100%|██████████| 50/50 [03:40<00:00,  4.41s/it, Train Loss=nan, Val Loss=3387.8792, MAE=58.2042, Dir Acc=0.5000]\n"
     ]
    },
    {
     "name": "stdout",
     "output_type": "stream",
     "text": [
      "MLflow Run ID: 05da0190800b46fe8de66f20273a74c9\n",
      "🏃 View run hs128_nl1_dr0.25_bs32_lr0.001 at: http://localhost:5000/#/experiments/559423165246250756/runs/05da0190800b46fe8de66f20273a74c9\n",
      "🧪 View experiment at: http://localhost:5000/#/experiments/559423165246250756\n",
      "Training with: hidden_size=128, num_layers=1, dropout=0.25, batch_size=32, learning_rate=0.001, num_epochs=50, lambda=0.4\n",
      "Using device: cuda\n"
     ]
    },
    {
     "name": "stderr",
     "output_type": "stream",
     "text": [
      "Training Progress: 100%|██████████| 50/50 [03:39<00:00,  4.39s/it, Train Loss=nan, Val Loss=3447.3162, MAE=58.7114, Dir Acc=0.5625]\n"
     ]
    },
    {
     "name": "stdout",
     "output_type": "stream",
     "text": [
      "MLflow Run ID: c525915aec4d4e0daa12f7d7181d8cce\n",
      "🏃 View run hs128_nl1_dr0.25_bs32_lr0.001 at: http://localhost:5000/#/experiments/559423165246250756/runs/c525915aec4d4e0daa12f7d7181d8cce\n",
      "🧪 View experiment at: http://localhost:5000/#/experiments/559423165246250756\n",
      "Training with: hidden_size=128, num_layers=1, dropout=0.25, batch_size=64, learning_rate=0.001, num_epochs=50, lambda=0.1\n",
      "Using device: cuda\n"
     ]
    },
    {
     "name": "stderr",
     "output_type": "stream",
     "text": [
      "Training Progress: 100%|██████████| 50/50 [03:39<00:00,  4.39s/it, Train Loss=nan, Val Loss=4202.2935, MAE=64.8245, Dir Acc=0.6250]\n"
     ]
    },
    {
     "name": "stdout",
     "output_type": "stream",
     "text": [
      "MLflow Run ID: 9154206776964e769e440044e053417a\n",
      "🏃 View run hs128_nl1_dr0.25_bs64_lr0.001 at: http://localhost:5000/#/experiments/559423165246250756/runs/9154206776964e769e440044e053417a\n",
      "🧪 View experiment at: http://localhost:5000/#/experiments/559423165246250756\n",
      "Training with: hidden_size=128, num_layers=1, dropout=0.25, batch_size=64, learning_rate=0.001, num_epochs=50, lambda=0.2\n",
      "Using device: cuda\n"
     ]
    },
    {
     "name": "stderr",
     "output_type": "stream",
     "text": [
      "Training Progress: 100%|██████████| 50/50 [04:07<00:00,  4.95s/it, Train Loss=nan, Val Loss=4303.2495, MAE=65.5980, Dir Acc=0.5625]\n"
     ]
    },
    {
     "name": "stdout",
     "output_type": "stream",
     "text": [
      "MLflow Run ID: 96ff8adc4d3843a18529159c4502332c\n",
      "🏃 View run hs128_nl1_dr0.25_bs64_lr0.001 at: http://localhost:5000/#/experiments/559423165246250756/runs/96ff8adc4d3843a18529159c4502332c\n",
      "🧪 View experiment at: http://localhost:5000/#/experiments/559423165246250756\n",
      "Training with: hidden_size=128, num_layers=1, dropout=0.25, batch_size=64, learning_rate=0.001, num_epochs=50, lambda=0.4\n",
      "Using device: cuda\n"
     ]
    },
    {
     "name": "stderr",
     "output_type": "stream",
     "text": [
      "Training Progress: 100%|██████████| 50/50 [03:44<00:00,  4.49s/it, Train Loss=nan, Val Loss=4281.3613, MAE=65.4299, Dir Acc=0.5625]\n"
     ]
    },
    {
     "name": "stdout",
     "output_type": "stream",
     "text": [
      "MLflow Run ID: c65c667dda3240929e07baa719d2057e\n",
      "🏃 View run hs128_nl1_dr0.25_bs64_lr0.001 at: http://localhost:5000/#/experiments/559423165246250756/runs/c65c667dda3240929e07baa719d2057e\n",
      "🧪 View experiment at: http://localhost:5000/#/experiments/559423165246250756\n",
      "Training with: hidden_size=128, num_layers=1, dropout=0.5, batch_size=16, learning_rate=0.001, num_epochs=50, lambda=0.1\n",
      "Using device: cuda\n"
     ]
    },
    {
     "name": "stderr",
     "output_type": "stream",
     "text": [
      "Training Progress: 100%|██████████| 50/50 [03:44<00:00,  4.49s/it, Train Loss=nan, Val Loss=2242.3733, MAE=47.3529, Dir Acc=0.5625]\n"
     ]
    },
    {
     "name": "stdout",
     "output_type": "stream",
     "text": [
      "MLflow Run ID: 8e1f8494402046ab829a44531ba307e1\n",
      "🏃 View run hs128_nl1_dr0.5_bs16_lr0.001 at: http://localhost:5000/#/experiments/559423165246250756/runs/8e1f8494402046ab829a44531ba307e1\n",
      "🧪 View experiment at: http://localhost:5000/#/experiments/559423165246250756\n",
      "Training with: hidden_size=128, num_layers=1, dropout=0.5, batch_size=16, learning_rate=0.001, num_epochs=50, lambda=0.2\n",
      "Using device: cuda\n"
     ]
    },
    {
     "name": "stderr",
     "output_type": "stream",
     "text": [
      "Training Progress: 100%|██████████| 50/50 [03:40<00:00,  4.41s/it, Train Loss=nan, Val Loss=2211.3635, MAE=47.0236, Dir Acc=0.5625]\n"
     ]
    },
    {
     "name": "stdout",
     "output_type": "stream",
     "text": [
      "MLflow Run ID: 7dab23c298cc4a2988407669be273f53\n",
      "🏃 View run hs128_nl1_dr0.5_bs16_lr0.001 at: http://localhost:5000/#/experiments/559423165246250756/runs/7dab23c298cc4a2988407669be273f53\n",
      "🧪 View experiment at: http://localhost:5000/#/experiments/559423165246250756\n",
      "Training with: hidden_size=128, num_layers=1, dropout=0.5, batch_size=16, learning_rate=0.001, num_epochs=50, lambda=0.4\n",
      "Using device: cuda\n"
     ]
    },
    {
     "name": "stderr",
     "output_type": "stream",
     "text": [
      "Training Progress: 100%|██████████| 50/50 [03:38<00:00,  4.37s/it, Train Loss=nan, Val Loss=2274.4866, MAE=47.6886, Dir Acc=0.5625]\n"
     ]
    },
    {
     "name": "stdout",
     "output_type": "stream",
     "text": [
      "MLflow Run ID: 961e085a265c46b59b3e41b74f6b7e6d\n",
      "🏃 View run hs128_nl1_dr0.5_bs16_lr0.001 at: http://localhost:5000/#/experiments/559423165246250756/runs/961e085a265c46b59b3e41b74f6b7e6d\n",
      "🧪 View experiment at: http://localhost:5000/#/experiments/559423165246250756\n",
      "Training with: hidden_size=128, num_layers=1, dropout=0.5, batch_size=32, learning_rate=0.001, num_epochs=50, lambda=0.1\n",
      "Using device: cuda\n"
     ]
    },
    {
     "name": "stderr",
     "output_type": "stream",
     "text": [
      "Training Progress: 100%|██████████| 50/50 [03:35<00:00,  4.32s/it, Train Loss=nan, Val Loss=3387.4897, MAE=58.2015, Dir Acc=0.5625]\n"
     ]
    },
    {
     "name": "stdout",
     "output_type": "stream",
     "text": [
      "MLflow Run ID: 4da2ab5828d248f9833e43c1ed1b2791\n",
      "🏃 View run hs128_nl1_dr0.5_bs32_lr0.001 at: http://localhost:5000/#/experiments/559423165246250756/runs/4da2ab5828d248f9833e43c1ed1b2791\n",
      "🧪 View experiment at: http://localhost:5000/#/experiments/559423165246250756\n",
      "Training with: hidden_size=128, num_layers=1, dropout=0.5, batch_size=32, learning_rate=0.001, num_epochs=50, lambda=0.2\n",
      "Using device: cuda\n"
     ]
    },
    {
     "name": "stderr",
     "output_type": "stream",
     "text": [
      "Training Progress: 100%|██████████| 50/50 [03:33<00:00,  4.28s/it, Train Loss=nan, Val Loss=3429.4700, MAE=58.5604, Dir Acc=0.5625]\n"
     ]
    },
    {
     "name": "stdout",
     "output_type": "stream",
     "text": [
      "MLflow Run ID: cdc8f9eeaa6b4f56b4ce77786bd86bef\n",
      "🏃 View run hs128_nl1_dr0.5_bs32_lr0.001 at: http://localhost:5000/#/experiments/559423165246250756/runs/cdc8f9eeaa6b4f56b4ce77786bd86bef\n",
      "🧪 View experiment at: http://localhost:5000/#/experiments/559423165246250756\n",
      "Training with: hidden_size=128, num_layers=1, dropout=0.5, batch_size=32, learning_rate=0.001, num_epochs=50, lambda=0.4\n",
      "Using device: cuda\n"
     ]
    },
    {
     "name": "stderr",
     "output_type": "stream",
     "text": [
      "Training Progress: 100%|██████████| 50/50 [03:32<00:00,  4.26s/it, Train Loss=nan, Val Loss=3462.9170, MAE=58.8441, Dir Acc=0.5625]\n"
     ]
    },
    {
     "name": "stdout",
     "output_type": "stream",
     "text": [
      "MLflow Run ID: df7613bcfa7b4876988e44393d104087\n",
      "🏃 View run hs128_nl1_dr0.5_bs32_lr0.001 at: http://localhost:5000/#/experiments/559423165246250756/runs/df7613bcfa7b4876988e44393d104087\n",
      "🧪 View experiment at: http://localhost:5000/#/experiments/559423165246250756\n",
      "Training with: hidden_size=128, num_layers=1, dropout=0.5, batch_size=64, learning_rate=0.001, num_epochs=50, lambda=0.1\n",
      "Using device: cuda\n"
     ]
    },
    {
     "name": "stderr",
     "output_type": "stream",
     "text": [
      "Training Progress: 100%|██████████| 50/50 [03:36<00:00,  4.33s/it, Train Loss=nan, Val Loss=4183.5674, MAE=64.6799, Dir Acc=0.5625]\n"
     ]
    },
    {
     "name": "stdout",
     "output_type": "stream",
     "text": [
      "MLflow Run ID: f3be870487224edaa2204a221c6e8dbd\n",
      "🏃 View run hs128_nl1_dr0.5_bs64_lr0.001 at: http://localhost:5000/#/experiments/559423165246250756/runs/f3be870487224edaa2204a221c6e8dbd\n",
      "🧪 View experiment at: http://localhost:5000/#/experiments/559423165246250756\n",
      "Training with: hidden_size=128, num_layers=1, dropout=0.5, batch_size=64, learning_rate=0.001, num_epochs=50, lambda=0.2\n",
      "Using device: cuda\n"
     ]
    },
    {
     "name": "stderr",
     "output_type": "stream",
     "text": [
      "Training Progress: 100%|██████████| 50/50 [03:32<00:00,  4.26s/it, Train Loss=nan, Val Loss=4256.9395, MAE=65.2441, Dir Acc=0.5625]\n"
     ]
    },
    {
     "name": "stdout",
     "output_type": "stream",
     "text": [
      "MLflow Run ID: 9e516e635aea48daaa5ba4b6c619d23b\n",
      "🏃 View run hs128_nl1_dr0.5_bs64_lr0.001 at: http://localhost:5000/#/experiments/559423165246250756/runs/9e516e635aea48daaa5ba4b6c619d23b\n",
      "🧪 View experiment at: http://localhost:5000/#/experiments/559423165246250756\n",
      "Training with: hidden_size=128, num_layers=1, dropout=0.5, batch_size=64, learning_rate=0.001, num_epochs=50, lambda=0.4\n",
      "Using device: cuda\n"
     ]
    },
    {
     "name": "stderr",
     "output_type": "stream",
     "text": [
      "Training Progress: 100%|██████████| 50/50 [03:36<00:00,  4.33s/it, Train Loss=nan, Val Loss=4214.8740, MAE=64.9199, Dir Acc=0.5625]\n"
     ]
    },
    {
     "name": "stdout",
     "output_type": "stream",
     "text": [
      "MLflow Run ID: e8ccd1ef619440118431b4a5a07922c1\n",
      "🏃 View run hs128_nl1_dr0.5_bs64_lr0.001 at: http://localhost:5000/#/experiments/559423165246250756/runs/e8ccd1ef619440118431b4a5a07922c1\n",
      "🧪 View experiment at: http://localhost:5000/#/experiments/559423165246250756\n",
      "Training with: hidden_size=128, num_layers=2, dropout=0.25, batch_size=16, learning_rate=0.001, num_epochs=50, lambda=0.1\n",
      "Using device: cuda\n"
     ]
    },
    {
     "name": "stderr",
     "output_type": "stream",
     "text": [
      "Training Progress: 100%|██████████| 50/50 [03:37<00:00,  4.34s/it, Train Loss=nan, Val Loss=3936.9058, MAE=62.7441, Dir Acc=0.5000]\n"
     ]
    },
    {
     "name": "stdout",
     "output_type": "stream",
     "text": [
      "MLflow Run ID: ab53b4fe735940cd80394f82e9260d58\n",
      "🏃 View run hs128_nl2_dr0.25_bs16_lr0.001 at: http://localhost:5000/#/experiments/559423165246250756/runs/ab53b4fe735940cd80394f82e9260d58\n",
      "🧪 View experiment at: http://localhost:5000/#/experiments/559423165246250756\n",
      "Training with: hidden_size=128, num_layers=2, dropout=0.25, batch_size=16, learning_rate=0.001, num_epochs=50, lambda=0.2\n",
      "Using device: cuda\n"
     ]
    },
    {
     "name": "stderr",
     "output_type": "stream",
     "text": [
      "Training Progress: 100%|██████████| 50/50 [03:39<00:00,  4.40s/it, Train Loss=nan, Val Loss=4025.2141, MAE=63.4434, Dir Acc=0.4375]\n"
     ]
    },
    {
     "name": "stdout",
     "output_type": "stream",
     "text": [
      "MLflow Run ID: 475c7be0d89c42a59f62ffcfddf1c62f\n",
      "🏃 View run hs128_nl2_dr0.25_bs16_lr0.001 at: http://localhost:5000/#/experiments/559423165246250756/runs/475c7be0d89c42a59f62ffcfddf1c62f\n",
      "🧪 View experiment at: http://localhost:5000/#/experiments/559423165246250756\n",
      "Training with: hidden_size=128, num_layers=2, dropout=0.25, batch_size=16, learning_rate=0.001, num_epochs=50, lambda=0.4\n",
      "Using device: cuda\n"
     ]
    },
    {
     "name": "stderr",
     "output_type": "stream",
     "text": [
      "Training Progress: 100%|██████████| 50/50 [03:40<00:00,  4.41s/it, Train Loss=nan, Val Loss=4063.0117, MAE=63.7395, Dir Acc=0.5000]\n"
     ]
    },
    {
     "name": "stdout",
     "output_type": "stream",
     "text": [
      "MLflow Run ID: 83de1a6df7644aaca6a2ea5489fc0ee8\n",
      "🏃 View run hs128_nl2_dr0.25_bs16_lr0.001 at: http://localhost:5000/#/experiments/559423165246250756/runs/83de1a6df7644aaca6a2ea5489fc0ee8\n",
      "🧪 View experiment at: http://localhost:5000/#/experiments/559423165246250756\n",
      "Training with: hidden_size=128, num_layers=2, dropout=0.25, batch_size=32, learning_rate=0.001, num_epochs=50, lambda=0.1\n",
      "Using device: cuda\n"
     ]
    },
    {
     "name": "stderr",
     "output_type": "stream",
     "text": [
      "Training Progress: 100%|██████████| 50/50 [03:35<00:00,  4.31s/it, Train Loss=nan, Val Loss=4823.6904, MAE=69.4522, Dir Acc=0.5625]\n"
     ]
    },
    {
     "name": "stdout",
     "output_type": "stream",
     "text": [
      "MLflow Run ID: c91862834cdd4890976690baf3821de6\n",
      "🏃 View run hs128_nl2_dr0.25_bs32_lr0.001 at: http://localhost:5000/#/experiments/559423165246250756/runs/c91862834cdd4890976690baf3821de6\n",
      "🧪 View experiment at: http://localhost:5000/#/experiments/559423165246250756\n",
      "Training with: hidden_size=128, num_layers=2, dropout=0.25, batch_size=32, learning_rate=0.001, num_epochs=50, lambda=0.2\n",
      "Using device: cuda\n"
     ]
    },
    {
     "name": "stderr",
     "output_type": "stream",
     "text": [
      "Training Progress: 100%|██████████| 50/50 [03:39<00:00,  4.39s/it, Train Loss=nan, Val Loss=4890.8608, MAE=69.9336, Dir Acc=0.7500]\n"
     ]
    },
    {
     "name": "stdout",
     "output_type": "stream",
     "text": [
      "MLflow Run ID: 29a86814983a44ea95630f632b14cbd3\n",
      "🏃 View run hs128_nl2_dr0.25_bs32_lr0.001 at: http://localhost:5000/#/experiments/559423165246250756/runs/29a86814983a44ea95630f632b14cbd3\n",
      "🧪 View experiment at: http://localhost:5000/#/experiments/559423165246250756\n",
      "Training with: hidden_size=128, num_layers=2, dropout=0.25, batch_size=32, learning_rate=0.001, num_epochs=50, lambda=0.4\n",
      "Using device: cuda\n"
     ]
    },
    {
     "name": "stderr",
     "output_type": "stream",
     "text": [
      "Training Progress: 100%|██████████| 50/50 [03:36<00:00,  4.33s/it, Train Loss=nan, Val Loss=4871.4678, MAE=69.7938, Dir Acc=0.5625]\n"
     ]
    },
    {
     "name": "stdout",
     "output_type": "stream",
     "text": [
      "MLflow Run ID: 88229154609d442087544a5d76fc7f44\n",
      "🏃 View run hs128_nl2_dr0.25_bs32_lr0.001 at: http://localhost:5000/#/experiments/559423165246250756/runs/88229154609d442087544a5d76fc7f44\n",
      "🧪 View experiment at: http://localhost:5000/#/experiments/559423165246250756\n",
      "Training with: hidden_size=128, num_layers=2, dropout=0.25, batch_size=64, learning_rate=0.001, num_epochs=50, lambda=0.1\n",
      "Using device: cuda\n"
     ]
    },
    {
     "name": "stderr",
     "output_type": "stream",
     "text": [
      "Training Progress: 100%|██████████| 50/50 [03:38<00:00,  4.38s/it, Train Loss=nan, Val Loss=5356.5640, MAE=73.1880, Dir Acc=0.5000]\n"
     ]
    },
    {
     "name": "stdout",
     "output_type": "stream",
     "text": [
      "MLflow Run ID: eff36db7884547e6bc613f44ce9134c9\n",
      "🏃 View run hs128_nl2_dr0.25_bs64_lr0.001 at: http://localhost:5000/#/experiments/559423165246250756/runs/eff36db7884547e6bc613f44ce9134c9\n",
      "🧪 View experiment at: http://localhost:5000/#/experiments/559423165246250756\n",
      "Training with: hidden_size=128, num_layers=2, dropout=0.25, batch_size=64, learning_rate=0.001, num_epochs=50, lambda=0.2\n",
      "Using device: cuda\n"
     ]
    },
    {
     "name": "stderr",
     "output_type": "stream",
     "text": [
      "Training Progress: 100%|██████████| 50/50 [03:34<00:00,  4.29s/it, Train Loss=nan, Val Loss=5290.7231, MAE=72.7363, Dir Acc=0.5625]\n"
     ]
    },
    {
     "name": "stdout",
     "output_type": "stream",
     "text": [
      "MLflow Run ID: 443d1ed8ae97469da5496f8999fbf1fa\n",
      "🏃 View run hs128_nl2_dr0.25_bs64_lr0.001 at: http://localhost:5000/#/experiments/559423165246250756/runs/443d1ed8ae97469da5496f8999fbf1fa\n",
      "🧪 View experiment at: http://localhost:5000/#/experiments/559423165246250756\n",
      "Training with: hidden_size=128, num_layers=2, dropout=0.25, batch_size=64, learning_rate=0.001, num_epochs=50, lambda=0.4\n",
      "Using device: cuda\n"
     ]
    },
    {
     "name": "stderr",
     "output_type": "stream",
     "text": [
      "Training Progress: 100%|██████████| 50/50 [03:38<00:00,  4.37s/it, Train Loss=nan, Val Loss=5329.5664, MAE=73.0019, Dir Acc=0.6250]\n"
     ]
    },
    {
     "name": "stdout",
     "output_type": "stream",
     "text": [
      "MLflow Run ID: 29ef7a4858c743bb874fa36575448824\n",
      "🏃 View run hs128_nl2_dr0.25_bs64_lr0.001 at: http://localhost:5000/#/experiments/559423165246250756/runs/29ef7a4858c743bb874fa36575448824\n",
      "🧪 View experiment at: http://localhost:5000/#/experiments/559423165246250756\n",
      "Training with: hidden_size=128, num_layers=2, dropout=0.5, batch_size=16, learning_rate=0.001, num_epochs=50, lambda=0.1\n",
      "Using device: cuda\n"
     ]
    },
    {
     "name": "stderr",
     "output_type": "stream",
     "text": [
      "Training Progress: 100%|██████████| 50/50 [03:36<00:00,  4.34s/it, Train Loss=nan, Val Loss=3986.3208, MAE=63.1367, Dir Acc=0.4375]\n"
     ]
    },
    {
     "name": "stdout",
     "output_type": "stream",
     "text": [
      "MLflow Run ID: e5c9ad37ebc74af2ab8ccabf3b193394\n",
      "🏃 View run hs128_nl2_dr0.5_bs16_lr0.001 at: http://localhost:5000/#/experiments/559423165246250756/runs/e5c9ad37ebc74af2ab8ccabf3b193394\n",
      "🧪 View experiment at: http://localhost:5000/#/experiments/559423165246250756\n",
      "Training with: hidden_size=128, num_layers=2, dropout=0.5, batch_size=16, learning_rate=0.001, num_epochs=50, lambda=0.2\n",
      "Using device: cuda\n"
     ]
    },
    {
     "name": "stderr",
     "output_type": "stream",
     "text": [
      "Training Progress: 100%|██████████| 50/50 [03:39<00:00,  4.39s/it, Train Loss=nan, Val Loss=4000.7163, MAE=63.2500, Dir Acc=0.5000]\n"
     ]
    },
    {
     "name": "stdout",
     "output_type": "stream",
     "text": [
      "MLflow Run ID: 04fff8e2315f4a4f82be8c3c50691eba\n",
      "🏃 View run hs128_nl2_dr0.5_bs16_lr0.001 at: http://localhost:5000/#/experiments/559423165246250756/runs/04fff8e2315f4a4f82be8c3c50691eba\n",
      "🧪 View experiment at: http://localhost:5000/#/experiments/559423165246250756\n",
      "Training with: hidden_size=128, num_layers=2, dropout=0.5, batch_size=16, learning_rate=0.001, num_epochs=50, lambda=0.4\n",
      "Using device: cuda\n"
     ]
    },
    {
     "name": "stderr",
     "output_type": "stream",
     "text": [
      "Training Progress: 100%|██████████| 50/50 [03:34<00:00,  4.29s/it, Train Loss=nan, Val Loss=3977.2053, MAE=63.0628, Dir Acc=0.5625]\n"
     ]
    },
    {
     "name": "stdout",
     "output_type": "stream",
     "text": [
      "MLflow Run ID: 518e4c50aea04fed994283875264508a\n",
      "🏃 View run hs128_nl2_dr0.5_bs16_lr0.001 at: http://localhost:5000/#/experiments/559423165246250756/runs/518e4c50aea04fed994283875264508a\n",
      "🧪 View experiment at: http://localhost:5000/#/experiments/559423165246250756\n",
      "Training with: hidden_size=128, num_layers=2, dropout=0.5, batch_size=32, learning_rate=0.001, num_epochs=50, lambda=0.1\n",
      "Using device: cuda\n"
     ]
    },
    {
     "name": "stderr",
     "output_type": "stream",
     "text": [
      "Training Progress: 100%|██████████| 50/50 [03:46<00:00,  4.52s/it, Train Loss=nan, Val Loss=4844.0630, MAE=69.5987, Dir Acc=0.5625]\n"
     ]
    },
    {
     "name": "stdout",
     "output_type": "stream",
     "text": [
      "MLflow Run ID: 95cf66d031ea449095cbb3a62fdf3205\n",
      "🏃 View run hs128_nl2_dr0.5_bs32_lr0.001 at: http://localhost:5000/#/experiments/559423165246250756/runs/95cf66d031ea449095cbb3a62fdf3205\n",
      "🧪 View experiment at: http://localhost:5000/#/experiments/559423165246250756\n",
      "Training with: hidden_size=128, num_layers=2, dropout=0.5, batch_size=32, learning_rate=0.001, num_epochs=50, lambda=0.2\n",
      "Using device: cuda\n"
     ]
    },
    {
     "name": "stderr",
     "output_type": "stream",
     "text": [
      "Training Progress: 100%|██████████| 50/50 [03:40<00:00,  4.41s/it, Train Loss=nan, Val Loss=4876.3999, MAE=69.8302, Dir Acc=0.5625]\n"
     ]
    },
    {
     "name": "stdout",
     "output_type": "stream",
     "text": [
      "MLflow Run ID: f159e8c016e24c29a0c6f24ea7ae769f\n",
      "🏃 View run hs128_nl2_dr0.5_bs32_lr0.001 at: http://localhost:5000/#/experiments/559423165246250756/runs/f159e8c016e24c29a0c6f24ea7ae769f\n",
      "🧪 View experiment at: http://localhost:5000/#/experiments/559423165246250756\n",
      "Training with: hidden_size=128, num_layers=2, dropout=0.5, batch_size=32, learning_rate=0.001, num_epochs=50, lambda=0.4\n",
      "Using device: cuda\n"
     ]
    },
    {
     "name": "stderr",
     "output_type": "stream",
     "text": [
      "Training Progress: 100%|██████████| 50/50 [03:35<00:00,  4.31s/it, Train Loss=nan, Val Loss=4836.4678, MAE=69.5427, Dir Acc=0.5625]\n"
     ]
    },
    {
     "name": "stdout",
     "output_type": "stream",
     "text": [
      "MLflow Run ID: 0e73187c0f8144d4add753dc399e3170\n",
      "🏃 View run hs128_nl2_dr0.5_bs32_lr0.001 at: http://localhost:5000/#/experiments/559423165246250756/runs/0e73187c0f8144d4add753dc399e3170\n",
      "🧪 View experiment at: http://localhost:5000/#/experiments/559423165246250756\n",
      "Training with: hidden_size=128, num_layers=2, dropout=0.5, batch_size=64, learning_rate=0.001, num_epochs=50, lambda=0.1\n",
      "Using device: cuda\n"
     ]
    },
    {
     "name": "stderr",
     "output_type": "stream",
     "text": [
      "Training Progress: 100%|██████████| 50/50 [03:37<00:00,  4.35s/it, Train Loss=nan, Val Loss=5294.4746, MAE=72.7626, Dir Acc=0.4375]\n"
     ]
    },
    {
     "name": "stdout",
     "output_type": "stream",
     "text": [
      "MLflow Run ID: 810a5190a872474c9fa956b6840c92e2\n",
      "🏃 View run hs128_nl2_dr0.5_bs64_lr0.001 at: http://localhost:5000/#/experiments/559423165246250756/runs/810a5190a872474c9fa956b6840c92e2\n",
      "🧪 View experiment at: http://localhost:5000/#/experiments/559423165246250756\n",
      "Training with: hidden_size=128, num_layers=2, dropout=0.5, batch_size=64, learning_rate=0.001, num_epochs=50, lambda=0.2\n",
      "Using device: cuda\n"
     ]
    },
    {
     "name": "stderr",
     "output_type": "stream",
     "text": [
      "Training Progress: 100%|██████████| 50/50 [03:35<00:00,  4.31s/it, Train Loss=nan, Val Loss=5263.2212, MAE=72.5470, Dir Acc=0.5625]\n"
     ]
    },
    {
     "name": "stdout",
     "output_type": "stream",
     "text": [
      "MLflow Run ID: b1f10d8d548c4a1c991e73dd0061da3d\n",
      "🏃 View run hs128_nl2_dr0.5_bs64_lr0.001 at: http://localhost:5000/#/experiments/559423165246250756/runs/b1f10d8d548c4a1c991e73dd0061da3d\n",
      "🧪 View experiment at: http://localhost:5000/#/experiments/559423165246250756\n",
      "Training with: hidden_size=128, num_layers=2, dropout=0.5, batch_size=64, learning_rate=0.001, num_epochs=50, lambda=0.4\n",
      "Using device: cuda\n"
     ]
    },
    {
     "name": "stderr",
     "output_type": "stream",
     "text": [
      "Training Progress: 100%|██████████| 50/50 [03:35<00:00,  4.31s/it, Train Loss=nan, Val Loss=5189.2607, MAE=72.0345, Dir Acc=0.6250]\n"
     ]
    },
    {
     "name": "stdout",
     "output_type": "stream",
     "text": [
      "MLflow Run ID: d2e989eb40b449009f2d638b9121378d\n",
      "🏃 View run hs128_nl2_dr0.5_bs64_lr0.001 at: http://localhost:5000/#/experiments/559423165246250756/runs/d2e989eb40b449009f2d638b9121378d\n",
      "🧪 View experiment at: http://localhost:5000/#/experiments/559423165246250756\n",
      "Training with: hidden_size=256, num_layers=1, dropout=0.25, batch_size=16, learning_rate=0.001, num_epochs=50, lambda=0.1\n",
      "Using device: cuda\n"
     ]
    },
    {
     "name": "stderr",
     "output_type": "stream",
     "text": [
      "Training Progress: 100%|██████████| 50/50 [03:47<00:00,  4.56s/it, Train Loss=nan, Val Loss=622.6237, MAE=24.9508, Dir Acc=0.5625] \n"
     ]
    },
    {
     "name": "stdout",
     "output_type": "stream",
     "text": [
      "MLflow Run ID: be9a5d58997e4465a88063fd04e0eb8b\n",
      "🏃 View run hs256_nl1_dr0.25_bs16_lr0.001 at: http://localhost:5000/#/experiments/559423165246250756/runs/be9a5d58997e4465a88063fd04e0eb8b\n",
      "🧪 View experiment at: http://localhost:5000/#/experiments/559423165246250756\n",
      "Training with: hidden_size=256, num_layers=1, dropout=0.25, batch_size=16, learning_rate=0.001, num_epochs=50, lambda=0.2\n",
      "Using device: cuda\n"
     ]
    },
    {
     "name": "stderr",
     "output_type": "stream",
     "text": [
      "Training Progress: 100%|██████████| 50/50 [03:48<00:00,  4.57s/it, Train Loss=nan, Val Loss=587.1597, MAE=24.2283, Dir Acc=0.5625] \n"
     ]
    },
    {
     "name": "stdout",
     "output_type": "stream",
     "text": [
      "MLflow Run ID: b6e2e6e0d0e143f28282dcddd8139708\n",
      "🏃 View run hs256_nl1_dr0.25_bs16_lr0.001 at: http://localhost:5000/#/experiments/559423165246250756/runs/b6e2e6e0d0e143f28282dcddd8139708\n",
      "🧪 View experiment at: http://localhost:5000/#/experiments/559423165246250756\n",
      "Training with: hidden_size=256, num_layers=1, dropout=0.25, batch_size=16, learning_rate=0.001, num_epochs=50, lambda=0.4\n",
      "Using device: cuda\n"
     ]
    },
    {
     "name": "stderr",
     "output_type": "stream",
     "text": [
      "Training Progress: 100%|██████████| 50/50 [03:44<00:00,  4.48s/it, Train Loss=nan, Val Loss=634.3546, MAE=25.1807, Dir Acc=0.5625] \n"
     ]
    },
    {
     "name": "stdout",
     "output_type": "stream",
     "text": [
      "MLflow Run ID: f832be8a7c824c4f9c2a1ba57ddf4e24\n",
      "🏃 View run hs256_nl1_dr0.25_bs16_lr0.001 at: http://localhost:5000/#/experiments/559423165246250756/runs/f832be8a7c824c4f9c2a1ba57ddf4e24\n",
      "🧪 View experiment at: http://localhost:5000/#/experiments/559423165246250756\n",
      "Training with: hidden_size=256, num_layers=1, dropout=0.25, batch_size=32, learning_rate=0.001, num_epochs=50, lambda=0.1\n",
      "Using device: cuda\n"
     ]
    },
    {
     "name": "stderr",
     "output_type": "stream",
     "text": [
      "Training Progress: 100%|██████████| 50/50 [03:44<00:00,  4.50s/it, Train Loss=nan, Val Loss=1722.7972, MAE=41.5056, Dir Acc=0.5625]\n"
     ]
    },
    {
     "name": "stdout",
     "output_type": "stream",
     "text": [
      "MLflow Run ID: d05ebb8b337f41efb313c7ecb227350a\n",
      "🏃 View run hs256_nl1_dr0.25_bs32_lr0.001 at: http://localhost:5000/#/experiments/559423165246250756/runs/d05ebb8b337f41efb313c7ecb227350a\n",
      "🧪 View experiment at: http://localhost:5000/#/experiments/559423165246250756\n",
      "Training with: hidden_size=256, num_layers=1, dropout=0.25, batch_size=32, learning_rate=0.001, num_epochs=50, lambda=0.2\n",
      "Using device: cuda\n"
     ]
    },
    {
     "name": "stderr",
     "output_type": "stream",
     "text": [
      "Training Progress: 100%|██████████| 50/50 [03:43<00:00,  4.47s/it, Train Loss=nan, Val Loss=1653.3131, MAE=40.6591, Dir Acc=0.6250]\n"
     ]
    },
    {
     "name": "stdout",
     "output_type": "stream",
     "text": [
      "MLflow Run ID: 3366d13f15304eca98ecff5289b0b568\n",
      "🏃 View run hs256_nl1_dr0.25_bs32_lr0.001 at: http://localhost:5000/#/experiments/559423165246250756/runs/3366d13f15304eca98ecff5289b0b568\n",
      "🧪 View experiment at: http://localhost:5000/#/experiments/559423165246250756\n",
      "Training with: hidden_size=256, num_layers=1, dropout=0.25, batch_size=32, learning_rate=0.001, num_epochs=50, lambda=0.4\n",
      "Using device: cuda\n"
     ]
    },
    {
     "name": "stderr",
     "output_type": "stream",
     "text": [
      "Training Progress: 100%|██████████| 50/50 [03:40<00:00,  4.40s/it, Train Loss=nan, Val Loss=1730.5957, MAE=41.5970, Dir Acc=0.6875]\n"
     ]
    },
    {
     "name": "stdout",
     "output_type": "stream",
     "text": [
      "MLflow Run ID: daef370297654000a4a4ca84185f1a85\n",
      "🏃 View run hs256_nl1_dr0.25_bs32_lr0.001 at: http://localhost:5000/#/experiments/559423165246250756/runs/daef370297654000a4a4ca84185f1a85\n",
      "🧪 View experiment at: http://localhost:5000/#/experiments/559423165246250756\n",
      "Training with: hidden_size=256, num_layers=1, dropout=0.25, batch_size=64, learning_rate=0.001, num_epochs=50, lambda=0.1\n",
      "Using device: cuda\n"
     ]
    },
    {
     "name": "stderr",
     "output_type": "stream",
     "text": [
      "Training Progress: 100%|██████████| 50/50 [03:41<00:00,  4.44s/it, Train Loss=nan, Val Loss=2731.1543, MAE=52.2597, Dir Acc=0.5625]\n"
     ]
    },
    {
     "name": "stdout",
     "output_type": "stream",
     "text": [
      "MLflow Run ID: c245e94e086845479d41cdcd9c0bddd0\n",
      "🏃 View run hs256_nl1_dr0.25_bs64_lr0.001 at: http://localhost:5000/#/experiments/559423165246250756/runs/c245e94e086845479d41cdcd9c0bddd0\n",
      "🧪 View experiment at: http://localhost:5000/#/experiments/559423165246250756\n",
      "Training with: hidden_size=256, num_layers=1, dropout=0.25, batch_size=64, learning_rate=0.001, num_epochs=50, lambda=0.2\n",
      "Using device: cuda\n"
     ]
    },
    {
     "name": "stderr",
     "output_type": "stream",
     "text": [
      "Training Progress: 100%|██████████| 50/50 [03:41<00:00,  4.43s/it, Train Loss=nan, Val Loss=2734.0022, MAE=52.2863, Dir Acc=0.6250]\n"
     ]
    },
    {
     "name": "stdout",
     "output_type": "stream",
     "text": [
      "MLflow Run ID: b0593aaf7140426d96f4b3404138aa68\n",
      "🏃 View run hs256_nl1_dr0.25_bs64_lr0.001 at: http://localhost:5000/#/experiments/559423165246250756/runs/b0593aaf7140426d96f4b3404138aa68\n",
      "🧪 View experiment at: http://localhost:5000/#/experiments/559423165246250756\n",
      "Training with: hidden_size=256, num_layers=1, dropout=0.25, batch_size=64, learning_rate=0.001, num_epochs=50, lambda=0.4\n",
      "Using device: cuda\n"
     ]
    },
    {
     "name": "stderr",
     "output_type": "stream",
     "text": [
      "Training Progress: 100%|██████████| 50/50 [03:39<00:00,  4.40s/it, Train Loss=nan, Val Loss=2693.5840, MAE=51.8970, Dir Acc=0.5625]\n"
     ]
    },
    {
     "name": "stdout",
     "output_type": "stream",
     "text": [
      "MLflow Run ID: 2e6113eb49c0455c86492b88aeb7738f\n",
      "🏃 View run hs256_nl1_dr0.25_bs64_lr0.001 at: http://localhost:5000/#/experiments/559423165246250756/runs/2e6113eb49c0455c86492b88aeb7738f\n",
      "🧪 View experiment at: http://localhost:5000/#/experiments/559423165246250756\n",
      "Training with: hidden_size=256, num_layers=1, dropout=0.5, batch_size=16, learning_rate=0.001, num_epochs=50, lambda=0.1\n",
      "Using device: cuda\n"
     ]
    },
    {
     "name": "stderr",
     "output_type": "stream",
     "text": [
      "Training Progress: 100%|██████████| 50/50 [03:48<00:00,  4.56s/it, Train Loss=nan, Val Loss=594.5420, MAE=24.3816, Dir Acc=0.5625] \n"
     ]
    },
    {
     "name": "stdout",
     "output_type": "stream",
     "text": [
      "MLflow Run ID: 050286b1ee7642fba6747eaab573ca24\n",
      "🏃 View run hs256_nl1_dr0.5_bs16_lr0.001 at: http://localhost:5000/#/experiments/559423165246250756/runs/050286b1ee7642fba6747eaab573ca24\n",
      "🧪 View experiment at: http://localhost:5000/#/experiments/559423165246250756\n",
      "Training with: hidden_size=256, num_layers=1, dropout=0.5, batch_size=16, learning_rate=0.001, num_epochs=50, lambda=0.2\n",
      "Using device: cuda\n"
     ]
    },
    {
     "name": "stderr",
     "output_type": "stream",
     "text": [
      "Training Progress: 100%|██████████| 50/50 [03:49<00:00,  4.59s/it, Train Loss=nan, Val Loss=601.0274, MAE=24.5128, Dir Acc=0.5625] \n"
     ]
    },
    {
     "name": "stdout",
     "output_type": "stream",
     "text": [
      "MLflow Run ID: cfe2c7e8843d4446ab59bbfc3bf98bd2\n",
      "🏃 View run hs256_nl1_dr0.5_bs16_lr0.001 at: http://localhost:5000/#/experiments/559423165246250756/runs/cfe2c7e8843d4446ab59bbfc3bf98bd2\n",
      "🧪 View experiment at: http://localhost:5000/#/experiments/559423165246250756\n",
      "Training with: hidden_size=256, num_layers=1, dropout=0.5, batch_size=16, learning_rate=0.001, num_epochs=50, lambda=0.4\n",
      "Using device: cuda\n"
     ]
    },
    {
     "name": "stderr",
     "output_type": "stream",
     "text": [
      "Training Progress: 100%|██████████| 50/50 [03:46<00:00,  4.53s/it, Train Loss=nan, Val Loss=570.6478, MAE=23.8822, Dir Acc=0.5625] \n"
     ]
    },
    {
     "name": "stdout",
     "output_type": "stream",
     "text": [
      "MLflow Run ID: 28ffd1b6b90d45a4ae2091564bca004b\n",
      "🏃 View run hs256_nl1_dr0.5_bs16_lr0.001 at: http://localhost:5000/#/experiments/559423165246250756/runs/28ffd1b6b90d45a4ae2091564bca004b\n",
      "🧪 View experiment at: http://localhost:5000/#/experiments/559423165246250756\n",
      "Training with: hidden_size=256, num_layers=1, dropout=0.5, batch_size=32, learning_rate=0.001, num_epochs=50, lambda=0.1\n",
      "Using device: cuda\n"
     ]
    },
    {
     "name": "stderr",
     "output_type": "stream",
     "text": [
      "Training Progress: 100%|██████████| 50/50 [03:46<00:00,  4.53s/it, Train Loss=nan, Val Loss=1677.8149, MAE=40.9602, Dir Acc=0.5625]\n"
     ]
    },
    {
     "name": "stdout",
     "output_type": "stream",
     "text": [
      "MLflow Run ID: 90dcfaee39214a818eb3dd88ff526d3d\n",
      "🏃 View run hs256_nl1_dr0.5_bs32_lr0.001 at: http://localhost:5000/#/experiments/559423165246250756/runs/90dcfaee39214a818eb3dd88ff526d3d\n",
      "🧪 View experiment at: http://localhost:5000/#/experiments/559423165246250756\n",
      "Training with: hidden_size=256, num_layers=1, dropout=0.5, batch_size=32, learning_rate=0.001, num_epochs=50, lambda=0.2\n",
      "Using device: cuda\n"
     ]
    },
    {
     "name": "stderr",
     "output_type": "stream",
     "text": [
      "Training Progress: 100%|██████████| 50/50 [03:46<00:00,  4.52s/it, Train Loss=nan, Val Loss=1725.8689, MAE=41.5418, Dir Acc=0.5625]\n"
     ]
    },
    {
     "name": "stdout",
     "output_type": "stream",
     "text": [
      "MLflow Run ID: b402647bd0424073b55f3c42d161a96f\n",
      "🏃 View run hs256_nl1_dr0.5_bs32_lr0.001 at: http://localhost:5000/#/experiments/559423165246250756/runs/b402647bd0424073b55f3c42d161a96f\n",
      "🧪 View experiment at: http://localhost:5000/#/experiments/559423165246250756\n",
      "Training with: hidden_size=256, num_layers=1, dropout=0.5, batch_size=32, learning_rate=0.001, num_epochs=50, lambda=0.4\n",
      "Using device: cuda\n"
     ]
    },
    {
     "name": "stderr",
     "output_type": "stream",
     "text": [
      "Training Progress: 100%|██████████| 50/50 [03:43<00:00,  4.47s/it, Train Loss=nan, Val Loss=1716.6860, MAE=41.4295, Dir Acc=0.5000]\n"
     ]
    },
    {
     "name": "stdout",
     "output_type": "stream",
     "text": [
      "MLflow Run ID: 8684510b450b49818774a9d74cc882ae\n",
      "🏃 View run hs256_nl1_dr0.5_bs32_lr0.001 at: http://localhost:5000/#/experiments/559423165246250756/runs/8684510b450b49818774a9d74cc882ae\n",
      "🧪 View experiment at: http://localhost:5000/#/experiments/559423165246250756\n",
      "Training with: hidden_size=256, num_layers=1, dropout=0.5, batch_size=64, learning_rate=0.001, num_epochs=50, lambda=0.1\n",
      "Using device: cuda\n"
     ]
    },
    {
     "name": "stderr",
     "output_type": "stream",
     "text": [
      "Training Progress: 100%|██████████| 50/50 [03:39<00:00,  4.38s/it, Train Loss=nan, Val Loss=2789.5637, MAE=52.8156, Dir Acc=0.7500]\n"
     ]
    },
    {
     "name": "stdout",
     "output_type": "stream",
     "text": [
      "MLflow Run ID: 70900da101a54d2c9dd6c4e61b578a5c\n",
      "🏃 View run hs256_nl1_dr0.5_bs64_lr0.001 at: http://localhost:5000/#/experiments/559423165246250756/runs/70900da101a54d2c9dd6c4e61b578a5c\n",
      "🧪 View experiment at: http://localhost:5000/#/experiments/559423165246250756\n",
      "Training with: hidden_size=256, num_layers=1, dropout=0.5, batch_size=64, learning_rate=0.001, num_epochs=50, lambda=0.2\n",
      "Using device: cuda\n"
     ]
    },
    {
     "name": "stderr",
     "output_type": "stream",
     "text": [
      "Training Progress: 100%|██████████| 50/50 [03:41<00:00,  4.43s/it, Train Loss=nan, Val Loss=2700.4194, MAE=51.9641, Dir Acc=0.5625]\n"
     ]
    },
    {
     "name": "stdout",
     "output_type": "stream",
     "text": [
      "MLflow Run ID: 7f37a0e0041c4eff838fdf1e97ad60d9\n",
      "🏃 View run hs256_nl1_dr0.5_bs64_lr0.001 at: http://localhost:5000/#/experiments/559423165246250756/runs/7f37a0e0041c4eff838fdf1e97ad60d9\n",
      "🧪 View experiment at: http://localhost:5000/#/experiments/559423165246250756\n",
      "Training with: hidden_size=256, num_layers=1, dropout=0.5, batch_size=64, learning_rate=0.001, num_epochs=50, lambda=0.4\n",
      "Using device: cuda\n"
     ]
    },
    {
     "name": "stderr",
     "output_type": "stream",
     "text": [
      "Training Progress: 100%|██████████| 50/50 [03:40<00:00,  4.42s/it, Train Loss=nan, Val Loss=2686.1846, MAE=51.8256, Dir Acc=0.5625]\n"
     ]
    },
    {
     "name": "stdout",
     "output_type": "stream",
     "text": [
      "MLflow Run ID: d2464f2959d7497d9cd4d9299cd6ee48\n",
      "🏃 View run hs256_nl1_dr0.5_bs64_lr0.001 at: http://localhost:5000/#/experiments/559423165246250756/runs/d2464f2959d7497d9cd4d9299cd6ee48\n",
      "🧪 View experiment at: http://localhost:5000/#/experiments/559423165246250756\n",
      "Training with: hidden_size=256, num_layers=2, dropout=0.25, batch_size=16, learning_rate=0.001, num_epochs=50, lambda=0.1\n",
      "Using device: cuda\n"
     ]
    },
    {
     "name": "stderr",
     "output_type": "stream",
     "text": [
      "Training Progress: 100%|██████████| 50/50 [03:51<00:00,  4.63s/it, Train Loss=nan, Val Loss=2307.8591, MAE=48.0394, Dir Acc=0.3750]\n"
     ]
    },
    {
     "name": "stdout",
     "output_type": "stream",
     "text": [
      "MLflow Run ID: ce7773a6843d4d34be01ed9ec9151011\n",
      "🏃 View run hs256_nl2_dr0.25_bs16_lr0.001 at: http://localhost:5000/#/experiments/559423165246250756/runs/ce7773a6843d4d34be01ed9ec9151011\n",
      "🧪 View experiment at: http://localhost:5000/#/experiments/559423165246250756\n",
      "Training with: hidden_size=256, num_layers=2, dropout=0.25, batch_size=16, learning_rate=0.001, num_epochs=50, lambda=0.2\n",
      "Using device: cuda\n"
     ]
    },
    {
     "name": "stderr",
     "output_type": "stream",
     "text": [
      "Training Progress: 100%|██████████| 50/50 [03:51<00:00,  4.63s/it, Train Loss=nan, Val Loss=2321.4939, MAE=48.1803, Dir Acc=0.3750]\n"
     ]
    },
    {
     "name": "stdout",
     "output_type": "stream",
     "text": [
      "MLflow Run ID: cd21863dc63b498d9a7bef44b3b62ac9\n",
      "🏃 View run hs256_nl2_dr0.25_bs16_lr0.001 at: http://localhost:5000/#/experiments/559423165246250756/runs/cd21863dc63b498d9a7bef44b3b62ac9\n",
      "🧪 View experiment at: http://localhost:5000/#/experiments/559423165246250756\n",
      "Training with: hidden_size=256, num_layers=2, dropout=0.25, batch_size=16, learning_rate=0.001, num_epochs=50, lambda=0.4\n",
      "Using device: cuda\n"
     ]
    },
    {
     "name": "stderr",
     "output_type": "stream",
     "text": [
      "Training Progress: 100%|██████████| 50/50 [1:27:57<00:00, 105.55s/it, Train Loss=nan, Val Loss=2409.2144, MAE=49.0808, Dir Acc=0.3125]    \n"
     ]
    },
    {
     "name": "stdout",
     "output_type": "stream",
     "text": [
      "MLflow Run ID: c2c688395fd64f2ba5b40a3a2800c591\n",
      "🏃 View run hs256_nl2_dr0.25_bs16_lr0.001 at: http://localhost:5000/#/experiments/559423165246250756/runs/c2c688395fd64f2ba5b40a3a2800c591\n",
      "🧪 View experiment at: http://localhost:5000/#/experiments/559423165246250756\n",
      "Training with: hidden_size=256, num_layers=2, dropout=0.25, batch_size=32, learning_rate=0.001, num_epochs=50, lambda=0.1\n",
      "Using device: cuda\n"
     ]
    },
    {
     "name": "stderr",
     "output_type": "stream",
     "text": [
      "Training Progress: 100%|██████████| 50/50 [04:34<00:00,  5.49s/it, Train Loss=nan, Val Loss=3474.2708, MAE=58.9423, Dir Acc=0.3750]\n"
     ]
    },
    {
     "name": "stdout",
     "output_type": "stream",
     "text": [
      "MLflow Run ID: d3731fe57b8c4871966732f53792e543\n",
      "🏃 View run hs256_nl2_dr0.25_bs32_lr0.001 at: http://localhost:5000/#/experiments/559423165246250756/runs/d3731fe57b8c4871966732f53792e543\n",
      "🧪 View experiment at: http://localhost:5000/#/experiments/559423165246250756\n",
      "Training with: hidden_size=256, num_layers=2, dropout=0.25, batch_size=32, learning_rate=0.001, num_epochs=50, lambda=0.2\n",
      "Using device: cuda\n"
     ]
    },
    {
     "name": "stderr",
     "output_type": "stream",
     "text": [
      "Training Progress: 100%|██████████| 50/50 [04:10<00:00,  5.00s/it, Train Loss=nan, Val Loss=3502.3853, MAE=59.1797, Dir Acc=0.5000]\n"
     ]
    },
    {
     "name": "stdout",
     "output_type": "stream",
     "text": [
      "MLflow Run ID: a05c291c24744fa1bd4a070f65d1a323\n",
      "🏃 View run hs256_nl2_dr0.25_bs32_lr0.001 at: http://localhost:5000/#/experiments/559423165246250756/runs/a05c291c24744fa1bd4a070f65d1a323\n",
      "🧪 View experiment at: http://localhost:5000/#/experiments/559423165246250756\n",
      "Training with: hidden_size=256, num_layers=2, dropout=0.25, batch_size=32, learning_rate=0.001, num_epochs=50, lambda=0.4\n",
      "Using device: cuda\n"
     ]
    },
    {
     "name": "stderr",
     "output_type": "stream",
     "text": [
      "Training Progress:  94%|█████████▍| 47/50 [04:05<00:15,  5.23s/it, Train Loss=nan, Val Loss=3593.0874, MAE=59.9400, Dir Acc=0.4375]\n"
     ]
    },
    {
     "name": "stdout",
     "output_type": "stream",
     "text": [
      "🏃 View run hs256_nl2_dr0.25_bs32_lr0.001 at: http://localhost:5000/#/experiments/559423165246250756/runs/d1759206d14341cf8288678729f46e73\n",
      "🧪 View experiment at: http://localhost:5000/#/experiments/559423165246250756\n"
     ]
    },
    {
     "ename": "KeyboardInterrupt",
     "evalue": "",
     "output_type": "error",
     "traceback": [
      "\u001b[0;31m---------------------------------------------------------------------------\u001b[0m",
      "\u001b[0;31mKeyboardInterrupt\u001b[0m                         Traceback (most recent call last)",
      "Cell \u001b[0;32mIn[93], line 20\u001b[0m\n\u001b[1;32m     17\u001b[0m sequence_length \u001b[38;5;241m=\u001b[39m \u001b[38;5;241m700\u001b[39m\n\u001b[1;32m     19\u001b[0m \u001b[38;5;66;03m# Run hyperparameter tuning\u001b[39;00m\n\u001b[0;32m---> 20\u001b[0m best_params \u001b[38;5;241m=\u001b[39m run_hyperparameter_tuning(df, sequence_length, param_grid)\n",
      "Cell \u001b[0;32mIn[82], line 45\u001b[0m, in \u001b[0;36mrun_hyperparameter_tuning\u001b[0;34m(df, sequence_length, param_grid)\u001b[0m\n\u001b[1;32m     37\u001b[0m training_params \u001b[38;5;241m=\u001b[39m {\n\u001b[1;32m     38\u001b[0m     \u001b[38;5;124m'\u001b[39m\u001b[38;5;124mbatch_size\u001b[39m\u001b[38;5;124m'\u001b[39m: batch_size,\n\u001b[1;32m     39\u001b[0m     \u001b[38;5;124m'\u001b[39m\u001b[38;5;124mlearning_rate\u001b[39m\u001b[38;5;124m'\u001b[39m: learning_rate,\n\u001b[1;32m     40\u001b[0m     \u001b[38;5;124m'\u001b[39m\u001b[38;5;124mnum_epochs\u001b[39m\u001b[38;5;124m'\u001b[39m: num_epochs,\n\u001b[1;32m     41\u001b[0m     \u001b[38;5;124m'\u001b[39m\u001b[38;5;124mlambda_direction\u001b[39m\u001b[38;5;124m'\u001b[39m: lambda_direction\n\u001b[1;32m     42\u001b[0m }\n\u001b[1;32m     44\u001b[0m \u001b[38;5;66;03m# Train and evaluate model\u001b[39;00m\n\u001b[0;32m---> 45\u001b[0m model, metrics \u001b[38;5;241m=\u001b[39m train(X_train, y_train, X_val, y_val, model_params, training_params)\n\u001b[1;32m     47\u001b[0m \u001b[38;5;66;03m# Store results\u001b[39;00m\n\u001b[1;32m     48\u001b[0m result \u001b[38;5;241m=\u001b[39m {\n\u001b[1;32m     49\u001b[0m     \u001b[38;5;124m'\u001b[39m\u001b[38;5;124mhidden_size\u001b[39m\u001b[38;5;124m'\u001b[39m: hidden_size,\n\u001b[1;32m     50\u001b[0m     \u001b[38;5;124m'\u001b[39m\u001b[38;5;124mnum_layers\u001b[39m\u001b[38;5;124m'\u001b[39m: num_layers,\n\u001b[0;32m   (...)\u001b[0m\n\u001b[1;32m     58\u001b[0m     \u001b[38;5;124m'\u001b[39m\u001b[38;5;124mrun_id\u001b[39m\u001b[38;5;124m'\u001b[39m: metrics[\u001b[38;5;124m'\u001b[39m\u001b[38;5;124mrun_id\u001b[39m\u001b[38;5;124m'\u001b[39m]\n\u001b[1;32m     59\u001b[0m }\n",
      "Cell \u001b[0;32mIn[79], line 100\u001b[0m, in \u001b[0;36mtrain\u001b[0;34m(X_train, y_train, X_val, y_val, model_params, training_params)\u001b[0m\n\u001b[1;32m     92\u001b[0m     pbar\u001b[38;5;241m.\u001b[39mset_postfix({\n\u001b[1;32m     93\u001b[0m         \u001b[38;5;124m'\u001b[39m\u001b[38;5;124mTrain Loss\u001b[39m\u001b[38;5;124m'\u001b[39m: \u001b[38;5;124mf\u001b[39m\u001b[38;5;124m\"\u001b[39m\u001b[38;5;132;01m{\u001b[39;00mavg_loss\u001b[38;5;132;01m:\u001b[39;00m\u001b[38;5;124m.4f\u001b[39m\u001b[38;5;132;01m}\u001b[39;00m\u001b[38;5;124m\"\u001b[39m,\n\u001b[1;32m     94\u001b[0m         \u001b[38;5;124m'\u001b[39m\u001b[38;5;124mVal Loss\u001b[39m\u001b[38;5;124m'\u001b[39m: \u001b[38;5;124mf\u001b[39m\u001b[38;5;124m\"\u001b[39m\u001b[38;5;132;01m{\u001b[39;00mval_loss\u001b[38;5;132;01m:\u001b[39;00m\u001b[38;5;124m.4f\u001b[39m\u001b[38;5;132;01m}\u001b[39;00m\u001b[38;5;124m\"\u001b[39m,\n\u001b[1;32m     95\u001b[0m         \u001b[38;5;124m'\u001b[39m\u001b[38;5;124mMAE\u001b[39m\u001b[38;5;124m'\u001b[39m: \u001b[38;5;124mf\u001b[39m\u001b[38;5;124m\"\u001b[39m\u001b[38;5;132;01m{\u001b[39;00mmae\u001b[38;5;132;01m:\u001b[39;00m\u001b[38;5;124m.4f\u001b[39m\u001b[38;5;132;01m}\u001b[39;00m\u001b[38;5;124m\"\u001b[39m,\n\u001b[1;32m     96\u001b[0m         \u001b[38;5;124m'\u001b[39m\u001b[38;5;124mDir Acc\u001b[39m\u001b[38;5;124m'\u001b[39m: \u001b[38;5;124mf\u001b[39m\u001b[38;5;124m\"\u001b[39m\u001b[38;5;132;01m{\u001b[39;00mdirectional_accuracy\u001b[38;5;132;01m:\u001b[39;00m\u001b[38;5;124m.4f\u001b[39m\u001b[38;5;132;01m}\u001b[39;00m\u001b[38;5;124m\"\u001b[39m\n\u001b[1;32m     97\u001b[0m     })\n\u001b[1;32m     99\u001b[0m     \u001b[38;5;66;03m# Save model\u001b[39;00m\n\u001b[0;32m--> 100\u001b[0m     mlflow\u001b[38;5;241m.\u001b[39mpytorch\u001b[38;5;241m.\u001b[39mlog_model(model, \u001b[38;5;124m\"\u001b[39m\u001b[38;5;124mmodel\u001b[39m\u001b[38;5;124m\"\u001b[39m)\n\u001b[1;32m    102\u001b[0m \u001b[38;5;66;03m# Get run ID for reference\u001b[39;00m\n\u001b[1;32m    103\u001b[0m run_id \u001b[38;5;241m=\u001b[39m mlflow\u001b[38;5;241m.\u001b[39mactive_run()\u001b[38;5;241m.\u001b[39minfo\u001b[38;5;241m.\u001b[39mrun_id\n",
      "File \u001b[0;32m~/anaconda3/lib/python3.12/site-packages/mlflow/pytorch/__init__.py:296\u001b[0m, in \u001b[0;36mlog_model\u001b[0;34m(pytorch_model, artifact_path, conda_env, code_paths, pickle_module, registered_model_name, signature, input_example, await_registration_for, requirements_file, extra_files, pip_requirements, extra_pip_requirements, metadata, **kwargs)\u001b[0m\n\u001b[1;32m    156\u001b[0m \u001b[38;5;250m\u001b[39m\u001b[38;5;124;03m\"\"\"\u001b[39;00m\n\u001b[1;32m    157\u001b[0m \u001b[38;5;124;03mLog a PyTorch model as an MLflow artifact for the current run.\u001b[39;00m\n\u001b[1;32m    158\u001b[0m \n\u001b[0;32m   (...)\u001b[0m\n\u001b[1;32m    293\u001b[0m \u001b[38;5;124;03m    PyTorch logged models\u001b[39;00m\n\u001b[1;32m    294\u001b[0m \u001b[38;5;124;03m\"\"\"\u001b[39;00m\n\u001b[1;32m    295\u001b[0m pickle_module \u001b[38;5;241m=\u001b[39m pickle_module \u001b[38;5;129;01mor\u001b[39;00m mlflow_pytorch_pickle_module\n\u001b[0;32m--> 296\u001b[0m \u001b[38;5;28;01mreturn\u001b[39;00m Model\u001b[38;5;241m.\u001b[39mlog(\n\u001b[1;32m    297\u001b[0m     artifact_path\u001b[38;5;241m=\u001b[39martifact_path,\n\u001b[1;32m    298\u001b[0m     flavor\u001b[38;5;241m=\u001b[39mmlflow\u001b[38;5;241m.\u001b[39mpytorch,\n\u001b[1;32m    299\u001b[0m     pytorch_model\u001b[38;5;241m=\u001b[39mpytorch_model,\n\u001b[1;32m    300\u001b[0m     conda_env\u001b[38;5;241m=\u001b[39mconda_env,\n\u001b[1;32m    301\u001b[0m     code_paths\u001b[38;5;241m=\u001b[39mcode_paths,\n\u001b[1;32m    302\u001b[0m     pickle_module\u001b[38;5;241m=\u001b[39mpickle_module,\n\u001b[1;32m    303\u001b[0m     registered_model_name\u001b[38;5;241m=\u001b[39mregistered_model_name,\n\u001b[1;32m    304\u001b[0m     signature\u001b[38;5;241m=\u001b[39msignature,\n\u001b[1;32m    305\u001b[0m     input_example\u001b[38;5;241m=\u001b[39minput_example,\n\u001b[1;32m    306\u001b[0m     await_registration_for\u001b[38;5;241m=\u001b[39mawait_registration_for,\n\u001b[1;32m    307\u001b[0m     requirements_file\u001b[38;5;241m=\u001b[39mrequirements_file,\n\u001b[1;32m    308\u001b[0m     extra_files\u001b[38;5;241m=\u001b[39mextra_files,\n\u001b[1;32m    309\u001b[0m     pip_requirements\u001b[38;5;241m=\u001b[39mpip_requirements,\n\u001b[1;32m    310\u001b[0m     extra_pip_requirements\u001b[38;5;241m=\u001b[39mextra_pip_requirements,\n\u001b[1;32m    311\u001b[0m     metadata\u001b[38;5;241m=\u001b[39mmetadata,\n\u001b[1;32m    312\u001b[0m     \u001b[38;5;241m*\u001b[39m\u001b[38;5;241m*\u001b[39mkwargs,\n\u001b[1;32m    313\u001b[0m )\n",
      "File \u001b[0;32m~/anaconda3/lib/python3.12/site-packages/mlflow/models/model.py:840\u001b[0m, in \u001b[0;36mModel.log\u001b[0;34m(cls, artifact_path, flavor, registered_model_name, await_registration_for, metadata, run_id, resources, auth_policy, prompts, **kwargs)\u001b[0m\n\u001b[1;32m    831\u001b[0m     prompts \u001b[38;5;241m=\u001b[39m [pr\u001b[38;5;241m.\u001b[39muri \u001b[38;5;28;01mif\u001b[39;00m \u001b[38;5;28misinstance\u001b[39m(pr, Prompt) \u001b[38;5;28;01melse\u001b[39;00m pr \u001b[38;5;28;01mfor\u001b[39;00m pr \u001b[38;5;129;01min\u001b[39;00m prompts]\n\u001b[1;32m    832\u001b[0m mlflow_model \u001b[38;5;241m=\u001b[39m \u001b[38;5;28mcls\u001b[39m(\n\u001b[1;32m    833\u001b[0m     artifact_path\u001b[38;5;241m=\u001b[39martifact_path,\n\u001b[1;32m    834\u001b[0m     run_id\u001b[38;5;241m=\u001b[39mrun_id,\n\u001b[0;32m   (...)\u001b[0m\n\u001b[1;32m    838\u001b[0m     prompts\u001b[38;5;241m=\u001b[39mprompts,\n\u001b[1;32m    839\u001b[0m )\n\u001b[0;32m--> 840\u001b[0m flavor\u001b[38;5;241m.\u001b[39msave_model(path\u001b[38;5;241m=\u001b[39mlocal_path, mlflow_model\u001b[38;5;241m=\u001b[39mmlflow_model, \u001b[38;5;241m*\u001b[39m\u001b[38;5;241m*\u001b[39mkwargs)\n\u001b[1;32m    841\u001b[0m \u001b[38;5;66;03m# `save_model` calls `load_model` to infer the model requirements, which may result in\u001b[39;00m\n\u001b[1;32m    842\u001b[0m \u001b[38;5;66;03m# __pycache__ directories being created in the model directory.\u001b[39;00m\n\u001b[1;32m    843\u001b[0m \u001b[38;5;28;01mfor\u001b[39;00m pycache \u001b[38;5;129;01min\u001b[39;00m Path(local_path)\u001b[38;5;241m.\u001b[39mrglob(\u001b[38;5;124m\"\u001b[39m\u001b[38;5;124m__pycache__\u001b[39m\u001b[38;5;124m\"\u001b[39m):\n",
      "File \u001b[0;32m~/anaconda3/lib/python3.12/site-packages/mlflow/pytorch/__init__.py:545\u001b[0m, in \u001b[0;36msave_model\u001b[0;34m(pytorch_model, path, conda_env, mlflow_model, code_paths, pickle_module, signature, input_example, requirements_file, extra_files, pip_requirements, extra_pip_requirements, metadata, **kwargs)\u001b[0m\n\u001b[1;32m    542\u001b[0m     default_reqs \u001b[38;5;241m=\u001b[39m get_default_pip_requirements()\n\u001b[1;32m    543\u001b[0m     \u001b[38;5;66;03m# To ensure `_load_pyfunc` can successfully load the model during the dependency\u001b[39;00m\n\u001b[1;32m    544\u001b[0m     \u001b[38;5;66;03m# inference, `mlflow_model.save` must be called beforehand to save an MLmodel file.\u001b[39;00m\n\u001b[0;32m--> 545\u001b[0m     inferred_reqs \u001b[38;5;241m=\u001b[39m mlflow\u001b[38;5;241m.\u001b[39mmodels\u001b[38;5;241m.\u001b[39minfer_pip_requirements(\n\u001b[1;32m    546\u001b[0m         model_data_path,\n\u001b[1;32m    547\u001b[0m         FLAVOR_NAME,\n\u001b[1;32m    548\u001b[0m         fallback\u001b[38;5;241m=\u001b[39mdefault_reqs,\n\u001b[1;32m    549\u001b[0m     )\n\u001b[1;32m    550\u001b[0m     default_reqs \u001b[38;5;241m=\u001b[39m \u001b[38;5;28msorted\u001b[39m(\u001b[38;5;28mset\u001b[39m(inferred_reqs)\u001b[38;5;241m.\u001b[39munion(default_reqs))\n\u001b[1;32m    551\u001b[0m \u001b[38;5;28;01melse\u001b[39;00m:\n",
      "File \u001b[0;32m~/anaconda3/lib/python3.12/site-packages/mlflow/utils/environment.py:432\u001b[0m, in \u001b[0;36minfer_pip_requirements\u001b[0;34m(model_uri, flavor, fallback, timeout, extra_env_vars)\u001b[0m\n\u001b[1;32m    428\u001b[0m             \u001b[38;5;28;01mreturn\u001b[39;00m _infer_requirements(\n\u001b[1;32m    429\u001b[0m                 model_uri, flavor, raise_on_error\u001b[38;5;241m=\u001b[39mraise_on_error, extra_env_vars\u001b[38;5;241m=\u001b[39mextra_env_vars\n\u001b[1;32m    430\u001b[0m             )\n\u001b[1;32m    431\u001b[0m     \u001b[38;5;28;01melse\u001b[39;00m:\n\u001b[0;32m--> 432\u001b[0m         \u001b[38;5;28;01mreturn\u001b[39;00m _infer_requirements(\n\u001b[1;32m    433\u001b[0m             model_uri, flavor, raise_on_error\u001b[38;5;241m=\u001b[39mraise_on_error, extra_env_vars\u001b[38;5;241m=\u001b[39mextra_env_vars\n\u001b[1;32m    434\u001b[0m         )\n\u001b[1;32m    435\u001b[0m \u001b[38;5;28;01mexcept\u001b[39;00m \u001b[38;5;167;01mException\u001b[39;00m \u001b[38;5;28;01mas\u001b[39;00m e:\n\u001b[1;32m    436\u001b[0m     \u001b[38;5;28;01mif\u001b[39;00m raise_on_error \u001b[38;5;129;01mor\u001b[39;00m (fallback \u001b[38;5;129;01mis\u001b[39;00m \u001b[38;5;28;01mNone\u001b[39;00m):\n",
      "File \u001b[0;32m~/anaconda3/lib/python3.12/site-packages/mlflow/utils/requirements_utils.py:518\u001b[0m, in \u001b[0;36m_infer_requirements\u001b[0;34m(model_uri, flavor, raise_on_error, extra_env_vars)\u001b[0m\n\u001b[1;32m    515\u001b[0m \u001b[38;5;28;01mif\u001b[39;00m _PYPI_PACKAGE_INDEX \u001b[38;5;129;01mis\u001b[39;00m \u001b[38;5;28;01mNone\u001b[39;00m:\n\u001b[1;32m    516\u001b[0m     _PYPI_PACKAGE_INDEX \u001b[38;5;241m=\u001b[39m _load_pypi_package_index()\n\u001b[0;32m--> 518\u001b[0m modules \u001b[38;5;241m=\u001b[39m _capture_imported_modules(model_uri, flavor, extra_env_vars\u001b[38;5;241m=\u001b[39mextra_env_vars)\n\u001b[1;32m    519\u001b[0m packages \u001b[38;5;241m=\u001b[39m _flatten([_MODULES_TO_PACKAGES\u001b[38;5;241m.\u001b[39mget(module, []) \u001b[38;5;28;01mfor\u001b[39;00m module \u001b[38;5;129;01min\u001b[39;00m modules])\n\u001b[1;32m    520\u001b[0m packages \u001b[38;5;241m=\u001b[39m \u001b[38;5;28mmap\u001b[39m(_normalize_package_name, packages)\n",
      "File \u001b[0;32m~/anaconda3/lib/python3.12/site-packages/mlflow/utils/requirements_utils.py:392\u001b[0m, in \u001b[0;36m_capture_imported_modules\u001b[0;34m(model_uri, flavor, record_full_module, extra_env_vars)\u001b[0m\n\u001b[1;32m    389\u001b[0m \u001b[38;5;28;01mfrom\u001b[39;00m \u001b[38;5;21;01mmlflow\u001b[39;00m\u001b[38;5;21;01m.\u001b[39;00m\u001b[38;5;21;01mutils\u001b[39;00m \u001b[38;5;28;01mimport\u001b[39;00m _capture_modules\n\u001b[1;32m    391\u001b[0m error_file \u001b[38;5;241m=\u001b[39m os\u001b[38;5;241m.\u001b[39mpath\u001b[38;5;241m.\u001b[39mjoin(tmpdir, \u001b[38;5;124m\"\u001b[39m\u001b[38;5;124merror.txt\u001b[39m\u001b[38;5;124m\"\u001b[39m)\n\u001b[0;32m--> 392\u001b[0m _run_command(\n\u001b[1;32m    393\u001b[0m     [\n\u001b[1;32m    394\u001b[0m         sys\u001b[38;5;241m.\u001b[39mexecutable,\n\u001b[1;32m    395\u001b[0m         _capture_modules\u001b[38;5;241m.\u001b[39m\u001b[38;5;18m__file__\u001b[39m,\n\u001b[1;32m    396\u001b[0m         \u001b[38;5;124m\"\u001b[39m\u001b[38;5;124m--model-path\u001b[39m\u001b[38;5;124m\"\u001b[39m,\n\u001b[1;32m    397\u001b[0m         local_model_path,\n\u001b[1;32m    398\u001b[0m         \u001b[38;5;124m\"\u001b[39m\u001b[38;5;124m--flavor\u001b[39m\u001b[38;5;124m\"\u001b[39m,\n\u001b[1;32m    399\u001b[0m         flavor,\n\u001b[1;32m    400\u001b[0m         \u001b[38;5;124m\"\u001b[39m\u001b[38;5;124m--output-file\u001b[39m\u001b[38;5;124m\"\u001b[39m,\n\u001b[1;32m    401\u001b[0m         output_file,\n\u001b[1;32m    402\u001b[0m         \u001b[38;5;124m\"\u001b[39m\u001b[38;5;124m--error-file\u001b[39m\u001b[38;5;124m\"\u001b[39m,\n\u001b[1;32m    403\u001b[0m         error_file,\n\u001b[1;32m    404\u001b[0m         \u001b[38;5;124m\"\u001b[39m\u001b[38;5;124m--sys-path\u001b[39m\u001b[38;5;124m\"\u001b[39m,\n\u001b[1;32m    405\u001b[0m         json\u001b[38;5;241m.\u001b[39mdumps(sys\u001b[38;5;241m.\u001b[39mpath),\n\u001b[1;32m    406\u001b[0m         \u001b[38;5;241m*\u001b[39mrecord_full_module_args,\n\u001b[1;32m    407\u001b[0m     ],\n\u001b[1;32m    408\u001b[0m     timeout_seconds\u001b[38;5;241m=\u001b[39mprocess_timeout,\n\u001b[1;32m    409\u001b[0m     env\u001b[38;5;241m=\u001b[39m{\n\u001b[1;32m    410\u001b[0m         \u001b[38;5;241m*\u001b[39m\u001b[38;5;241m*\u001b[39mmain_env,\n\u001b[1;32m    411\u001b[0m         _MLFLOW_IN_CAPTURE_MODULE_PROCESS\u001b[38;5;241m.\u001b[39mname: \u001b[38;5;124m\"\u001b[39m\u001b[38;5;124mtrue\u001b[39m\u001b[38;5;124m\"\u001b[39m,\n\u001b[1;32m    412\u001b[0m         \u001b[38;5;241m*\u001b[39m\u001b[38;5;241m*\u001b[39mextra_env_vars,\n\u001b[1;32m    413\u001b[0m     },\n\u001b[1;32m    414\u001b[0m )\n\u001b[1;32m    416\u001b[0m \u001b[38;5;28;01mif\u001b[39;00m os\u001b[38;5;241m.\u001b[39mpath\u001b[38;5;241m.\u001b[39mexists(error_file):\n\u001b[1;32m    417\u001b[0m     \u001b[38;5;28;01mwith\u001b[39;00m \u001b[38;5;28mopen\u001b[39m(error_file) \u001b[38;5;28;01mas\u001b[39;00m f:\n",
      "File \u001b[0;32m~/anaconda3/lib/python3.12/site-packages/mlflow/utils/requirements_utils.py:254\u001b[0m, in \u001b[0;36m_run_command\u001b[0;34m(cmd, timeout_seconds, env)\u001b[0m\n\u001b[1;32m    252\u001b[0m \u001b[38;5;28;01mtry\u001b[39;00m:\n\u001b[1;32m    253\u001b[0m     timer\u001b[38;5;241m.\u001b[39mstart()\n\u001b[0;32m--> 254\u001b[0m     stdout, stderr \u001b[38;5;241m=\u001b[39m proc\u001b[38;5;241m.\u001b[39mcommunicate()\n\u001b[1;32m    255\u001b[0m     stdout \u001b[38;5;241m=\u001b[39m stdout\u001b[38;5;241m.\u001b[39mdecode(\u001b[38;5;124m\"\u001b[39m\u001b[38;5;124mutf-8\u001b[39m\u001b[38;5;124m\"\u001b[39m)\n\u001b[1;32m    256\u001b[0m     stderr \u001b[38;5;241m=\u001b[39m stderr\u001b[38;5;241m.\u001b[39mdecode(\u001b[38;5;124m\"\u001b[39m\u001b[38;5;124mutf-8\u001b[39m\u001b[38;5;124m\"\u001b[39m)\n",
      "File \u001b[0;32m~/anaconda3/lib/python3.12/subprocess.py:1209\u001b[0m, in \u001b[0;36mPopen.communicate\u001b[0;34m(self, input, timeout)\u001b[0m\n\u001b[1;32m   1206\u001b[0m     endtime \u001b[38;5;241m=\u001b[39m \u001b[38;5;28;01mNone\u001b[39;00m\n\u001b[1;32m   1208\u001b[0m \u001b[38;5;28;01mtry\u001b[39;00m:\n\u001b[0;32m-> 1209\u001b[0m     stdout, stderr \u001b[38;5;241m=\u001b[39m \u001b[38;5;28mself\u001b[39m\u001b[38;5;241m.\u001b[39m_communicate(\u001b[38;5;28minput\u001b[39m, endtime, timeout)\n\u001b[1;32m   1210\u001b[0m \u001b[38;5;28;01mexcept\u001b[39;00m \u001b[38;5;167;01mKeyboardInterrupt\u001b[39;00m:\n\u001b[1;32m   1211\u001b[0m     \u001b[38;5;66;03m# https://bugs.python.org/issue25942\u001b[39;00m\n\u001b[1;32m   1212\u001b[0m     \u001b[38;5;66;03m# See the detailed comment in .wait().\u001b[39;00m\n\u001b[1;32m   1213\u001b[0m     \u001b[38;5;28;01mif\u001b[39;00m timeout \u001b[38;5;129;01mis\u001b[39;00m \u001b[38;5;129;01mnot\u001b[39;00m \u001b[38;5;28;01mNone\u001b[39;00m:\n",
      "File \u001b[0;32m~/anaconda3/lib/python3.12/subprocess.py:2115\u001b[0m, in \u001b[0;36mPopen._communicate\u001b[0;34m(self, input, endtime, orig_timeout)\u001b[0m\n\u001b[1;32m   2108\u001b[0m     \u001b[38;5;28mself\u001b[39m\u001b[38;5;241m.\u001b[39m_check_timeout(endtime, orig_timeout,\n\u001b[1;32m   2109\u001b[0m                         stdout, stderr,\n\u001b[1;32m   2110\u001b[0m                         skip_check_and_raise\u001b[38;5;241m=\u001b[39m\u001b[38;5;28;01mTrue\u001b[39;00m)\n\u001b[1;32m   2111\u001b[0m     \u001b[38;5;28;01mraise\u001b[39;00m \u001b[38;5;167;01mRuntimeError\u001b[39;00m(  \u001b[38;5;66;03m# Impossible :)\u001b[39;00m\n\u001b[1;32m   2112\u001b[0m         \u001b[38;5;124m'\u001b[39m\u001b[38;5;124m_check_timeout(..., skip_check_and_raise=True) \u001b[39m\u001b[38;5;124m'\u001b[39m\n\u001b[1;32m   2113\u001b[0m         \u001b[38;5;124m'\u001b[39m\u001b[38;5;124mfailed to raise TimeoutExpired.\u001b[39m\u001b[38;5;124m'\u001b[39m)\n\u001b[0;32m-> 2115\u001b[0m ready \u001b[38;5;241m=\u001b[39m selector\u001b[38;5;241m.\u001b[39mselect(timeout)\n\u001b[1;32m   2116\u001b[0m \u001b[38;5;28mself\u001b[39m\u001b[38;5;241m.\u001b[39m_check_timeout(endtime, orig_timeout, stdout, stderr)\n\u001b[1;32m   2118\u001b[0m \u001b[38;5;66;03m# XXX Rewrite these to use non-blocking I/O on the file\u001b[39;00m\n\u001b[1;32m   2119\u001b[0m \u001b[38;5;66;03m# objects; they are no longer using C stdio!\u001b[39;00m\n",
      "File \u001b[0;32m~/anaconda3/lib/python3.12/selectors.py:415\u001b[0m, in \u001b[0;36m_PollLikeSelector.select\u001b[0;34m(self, timeout)\u001b[0m\n\u001b[1;32m    413\u001b[0m ready \u001b[38;5;241m=\u001b[39m []\n\u001b[1;32m    414\u001b[0m \u001b[38;5;28;01mtry\u001b[39;00m:\n\u001b[0;32m--> 415\u001b[0m     fd_event_list \u001b[38;5;241m=\u001b[39m \u001b[38;5;28mself\u001b[39m\u001b[38;5;241m.\u001b[39m_selector\u001b[38;5;241m.\u001b[39mpoll(timeout)\n\u001b[1;32m    416\u001b[0m \u001b[38;5;28;01mexcept\u001b[39;00m \u001b[38;5;167;01mInterruptedError\u001b[39;00m:\n\u001b[1;32m    417\u001b[0m     \u001b[38;5;28;01mreturn\u001b[39;00m ready\n",
      "\u001b[0;31mKeyboardInterrupt\u001b[0m: "
     ]
    }
   ],
   "source": [
    "mlflow.set_experiment(\"With half organization - Forex Pred\") \n",
    "\n",
    "# Define hyperparameter grid\n",
    "param_grid = {\n",
    "    'hidden_size': [128, 256, 512],\n",
    "    'num_layers': [1, 2],\n",
    "    'dropout': [0.25, 0.5],\n",
    "    'batch_size': [16, 32, 64],\n",
    "    'learning_rate': [0.001],\n",
    "    'num_epochs': [50],\n",
    "    'lambda_direction': [0.1, 0.2, 0.4]\n",
    "}\n",
    "\n",
    "data_path = \"/home/ayaan-ubuntu/DA5402/DA5402-ML-Application/data/prepared/USD_INR_transformed.csv\" \n",
    "df = pd.read_csv(data_path)\n",
    "\n",
    "sequence_length = 700\n",
    "\n",
    "# Run hyperparameter tuning\n",
    "best_params = run_hyperparameter_tuning(df, sequence_length, param_grid)"
   ]
  },
  {
   "cell_type": "code",
   "execution_count": null,
   "id": "da7c7e0b",
   "metadata": {},
   "outputs": [],
   "source": [
    "mlflow.end_run()"
   ]
  }
 ],
 "metadata": {
  "kernelspec": {
   "display_name": "base",
   "language": "python",
   "name": "python3"
  },
  "language_info": {
   "codemirror_mode": {
    "name": "ipython",
    "version": 3
   },
   "file_extension": ".py",
   "mimetype": "text/x-python",
   "name": "python",
   "nbconvert_exporter": "python",
   "pygments_lexer": "ipython3",
   "version": "3.12.7"
  }
 },
 "nbformat": 4,
 "nbformat_minor": 5
}
